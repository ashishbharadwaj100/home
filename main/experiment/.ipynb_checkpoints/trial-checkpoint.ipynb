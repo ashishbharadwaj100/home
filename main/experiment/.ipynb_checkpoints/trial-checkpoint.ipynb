{
 "cells": [
  {
   "cell_type": "markdown",
   "metadata": {},
   "source": [
    "# Applying Machine Learning and Deep Learning to identify home appliances consuming excess power\n",
    "\n",
    "## Copyright (c) 2018, Faststream Technologies\n",
    "## Author: Sudhanva Narayana"
   ]
  },
  {
   "cell_type": "code",
   "execution_count": 1,
   "metadata": {},
   "outputs": [],
   "source": [
    "# Home Appliances Data\n",
    "import numpy as np\n",
    "import pandas as pd\n",
    "import matplotlib.pyplot as plt"
   ]
  },
  {
   "cell_type": "code",
   "execution_count": 2,
   "metadata": {},
   "outputs": [],
   "source": [
    "# Import Dataset\n",
    "df_home_data_test = pd.read_csv('../../data/home_data_predict.csv')\n",
    "df_home_priority = pd.read_csv('../../data/home_priority.csv')\n",
    "date_time_group = pd.read_csv('../../data/date_time_group.csv')"
   ]
  },
  {
   "cell_type": "code",
   "execution_count": 3,
   "metadata": {},
   "outputs": [
    {
     "data": {
      "text/html": [
       "<div>\n",
       "<style scoped>\n",
       "    .dataframe tbody tr th:only-of-type {\n",
       "        vertical-align: middle;\n",
       "    }\n",
       "\n",
       "    .dataframe tbody tr th {\n",
       "        vertical-align: top;\n",
       "    }\n",
       "\n",
       "    .dataframe thead th {\n",
       "        text-align: right;\n",
       "    }\n",
       "</style>\n",
       "<table border=\"1\" class=\"dataframe\">\n",
       "  <thead>\n",
       "    <tr style=\"text-align: right;\">\n",
       "      <th></th>\n",
       "      <th>device</th>\n",
       "      <th>room</th>\n",
       "      <th>weather_type</th>\n",
       "      <th>date</th>\n",
       "      <th>from_time</th>\n",
       "      <th>to_time</th>\n",
       "      <th>time</th>\n",
       "      <th>no_of_people</th>\n",
       "      <th>time_stayed_mins</th>\n",
       "      <th>power</th>\n",
       "    </tr>\n",
       "  </thead>\n",
       "  <tbody>\n",
       "    <tr>\n",
       "      <th>0</th>\n",
       "      <td>AC</td>\n",
       "      <td>100</td>\n",
       "      <td>hot</td>\n",
       "      <td>2018-01-01</td>\n",
       "      <td>00:00:00</td>\n",
       "      <td>01:00:00</td>\n",
       "      <td>02:00:00</td>\n",
       "      <td>midnight</td>\n",
       "      <td>3</td>\n",
       "      <td>21</td>\n",
       "      <td>1528.898438</td>\n",
       "    </tr>\n",
       "    <tr>\n",
       "      <th>1</th>\n",
       "      <td>AC</td>\n",
       "      <td>100</td>\n",
       "      <td>very cold</td>\n",
       "      <td>2018-01-01</td>\n",
       "      <td>00:00:00</td>\n",
       "      <td>01:00:00</td>\n",
       "      <td>midnight</td>\n",
       "      <td>10</td>\n",
       "      <td>5</td>\n",
       "      <td>1512.648438</td>\n",
       "    </tr>\n",
       "    <tr>\n",
       "      <th>2</th>\n",
       "      <td>AC</td>\n",
       "      <td>100</td>\n",
       "      <td>cold</td>\n",
       "      <td>2018-01-01</td>\n",
       "      <td>02:00:00</td>\n",
       "      <td>03:00:00</td>\n",
       "      <td>midnight</td>\n",
       "      <td>4</td>\n",
       "      <td>22</td>\n",
       "      <td>1521.007812</td>\n",
       "    </tr>\n",
       "    <tr>\n",
       "      <th>3</th>\n",
       "      <td>AC</td>\n",
       "      <td>100</td>\n",
       "      <td>cold</td>\n",
       "      <td>2018-01-01</td>\n",
       "      <td>03:00:00</td>\n",
       "      <td>04:00:00</td>\n",
       "      <td>midnight</td>\n",
       "      <td>3</td>\n",
       "      <td>5</td>\n",
       "      <td>1499.714844</td>\n",
       "    </tr>\n",
       "    <tr>\n",
       "      <th>4</th>\n",
       "      <td>AC</td>\n",
       "      <td>100</td>\n",
       "      <td>very cold</td>\n",
       "      <td>2018-01-01</td>\n",
       "      <td>05:00:00</td>\n",
       "      <td>06:00:00</td>\n",
       "      <td>early morning</td>\n",
       "      <td>2</td>\n",
       "      <td>35</td>\n",
       "      <td>1507.480469</td>\n",
       "    </tr>\n",
       "  </tbody>\n",
       "</table>\n",
       "</div>"
      ],
      "text/plain": [
       "  device  room weather_type        date from_time   to_time           time  \\\n",
       "0     AC   100          hot  2018-01-01  00:00:00  01:00:00       midnight   \n",
       "1     AC   100    very cold  2018-01-01  00:00:00  01:00:00       midnight   \n",
       "2     AC   100         cold  2018-01-01  02:00:00  03:00:00       midnight   \n",
       "3     AC   100         cold  2018-01-01  03:00:00  04:00:00       midnight   \n",
       "4     AC   100    very cold  2018-01-01  05:00:00  06:00:00  early morning   \n",
       "\n",
       "   no_of_people  time_stayed_mins        power  \n",
       "0             3                21  1528.898438  \n",
       "1            10                 5  1512.648438  \n",
       "2             4                22  1521.007812  \n",
       "3             3                 5  1499.714844  \n",
       "4             2                35  1507.480469  "
      ]
     },
     "execution_count": 3,
     "metadata": {},
     "output_type": "execute_result"
    }
   ],
   "source": [
    "df_home_data_test.head()"
   ]
  },
  {
   "cell_type": "code",
   "execution_count": 4,
   "metadata": {},
   "outputs": [
    {
     "data": {
      "text/html": [
       "<div>\n",
       "<style scoped>\n",
       "    .dataframe tbody tr th:only-of-type {\n",
       "        vertical-align: middle;\n",
       "    }\n",
       "\n",
       "    .dataframe tbody tr th {\n",
       "        vertical-align: top;\n",
       "    }\n",
       "\n",
       "    .dataframe thead th {\n",
       "        text-align: right;\n",
       "    }\n",
       "</style>\n",
       "<table border=\"1\" class=\"dataframe\">\n",
       "  <thead>\n",
       "    <tr style=\"text-align: right;\">\n",
       "      <th></th>\n",
       "      <th>device</th>\n",
       "      <th>weather_type</th>\n",
       "      <th>time</th>\n",
       "      <th>priority</th>\n",
       "      <th>order</th>\n",
       "    </tr>\n",
       "  </thead>\n",
       "  <tbody>\n",
       "    <tr>\n",
       "      <th>0</th>\n",
       "      <td>AC</td>\n",
       "      <td>low cold</td>\n",
       "      <td>early morning</td>\n",
       "      <td>8</td>\n",
       "      <td>52</td>\n",
       "    </tr>\n",
       "    <tr>\n",
       "      <th>1</th>\n",
       "      <td>AC</td>\n",
       "      <td>low cold</td>\n",
       "      <td>morning</td>\n",
       "      <td>8</td>\n",
       "      <td>49</td>\n",
       "    </tr>\n",
       "    <tr>\n",
       "      <th>2</th>\n",
       "      <td>AC</td>\n",
       "      <td>low cold</td>\n",
       "      <td>afternoon</td>\n",
       "      <td>8</td>\n",
       "      <td>48</td>\n",
       "    </tr>\n",
       "    <tr>\n",
       "      <th>3</th>\n",
       "      <td>AC</td>\n",
       "      <td>low cold</td>\n",
       "      <td>evening</td>\n",
       "      <td>8</td>\n",
       "      <td>50</td>\n",
       "    </tr>\n",
       "    <tr>\n",
       "      <th>4</th>\n",
       "      <td>AC</td>\n",
       "      <td>low cold</td>\n",
       "      <td>night</td>\n",
       "      <td>8</td>\n",
       "      <td>51</td>\n",
       "    </tr>\n",
       "  </tbody>\n",
       "</table>\n",
       "</div>"
      ],
      "text/plain": [
       "  device weather_type           time  priority  order\n",
       "0     AC     low cold  early morning         8     52\n",
       "1     AC     low cold        morning         8     49\n",
       "2     AC     low cold      afternoon         8     48\n",
       "3     AC     low cold        evening         8     50\n",
       "4     AC     low cold          night         8     51"
      ]
     },
     "execution_count": 4,
     "metadata": {},
     "output_type": "execute_result"
    }
   ],
   "source": [
    "df_home_priority.head()"
   ]
  },
  {
   "cell_type": "code",
   "execution_count": 5,
   "metadata": {},
   "outputs": [
    {
     "data": {
      "text/html": [
       "<div>\n",
       "<style scoped>\n",
       "    .dataframe tbody tr th:only-of-type {\n",
       "        vertical-align: middle;\n",
       "    }\n",
       "\n",
       "    .dataframe tbody tr th {\n",
       "        vertical-align: top;\n",
       "    }\n",
       "\n",
       "    .dataframe thead th {\n",
       "        text-align: right;\n",
       "    }\n",
       "</style>\n",
       "<table border=\"1\" class=\"dataframe\">\n",
       "  <thead>\n",
       "    <tr style=\"text-align: right;\">\n",
       "      <th></th>\n",
       "      <th>date</th>\n",
       "      <th>from_time</th>\n",
       "      <th>power</th>\n",
       "    </tr>\n",
       "  </thead>\n",
       "  <tbody>\n",
       "    <tr>\n",
       "      <th>0</th>\n",
       "      <td>2018-01-01</td>\n",
       "      <td>00:00:00</td>\n",
       "      <td>10372</td>\n",
       "    </tr>\n",
       "    <tr>\n",
       "      <th>1</th>\n",
       "      <td>2018-01-01</td>\n",
       "      <td>01:00:00</td>\n",
       "      <td>9393</td>\n",
       "    </tr>\n",
       "    <tr>\n",
       "      <th>2</th>\n",
       "      <td>2018-01-01</td>\n",
       "      <td>02:00:00</td>\n",
       "      <td>10013</td>\n",
       "    </tr>\n",
       "    <tr>\n",
       "      <th>3</th>\n",
       "      <td>2018-01-01</td>\n",
       "      <td>03:00:00</td>\n",
       "      <td>10171</td>\n",
       "    </tr>\n",
       "    <tr>\n",
       "      <th>4</th>\n",
       "      <td>2018-01-01</td>\n",
       "      <td>04:00:00</td>\n",
       "      <td>10650</td>\n",
       "    </tr>\n",
       "  </tbody>\n",
       "</table>\n",
       "</div>"
      ],
      "text/plain": [
       "         date from_time  power\n",
       "0  2018-01-01  00:00:00  10372\n",
       "1  2018-01-01  01:00:00   9393\n",
       "2  2018-01-01  02:00:00  10013\n",
       "3  2018-01-01  03:00:00  10171\n",
       "4  2018-01-01  04:00:00  10650"
      ]
     },
     "execution_count": 5,
     "metadata": {},
     "output_type": "execute_result"
    }
   ],
   "source": [
    "date_time_group.head()"
   ]
  },
  {
   "cell_type": "code",
   "execution_count": 6,
   "metadata": {},
   "outputs": [],
   "source": [
    "total_power_consumption = df_home_data_test.groupby(['date', 'from_time']).sum()['power'].reset_index()"
   ]
  },
  {
   "cell_type": "code",
   "execution_count": 7,
   "metadata": {},
   "outputs": [],
   "source": [
    "sample_date = '2018-01-01'\n",
    "# sample_date_format = '18-01-2018'\n",
    "sample_time = '10:00:00'"
   ]
  },
  {
   "cell_type": "code",
   "execution_count": 8,
   "metadata": {},
   "outputs": [],
   "source": [
    "sample_df = df_home_data_test[(df_home_data_test['date'] == sample_date) & (df_home_data_test['from_time'] == sample_time)]\n",
    "sample_df_priority = df_home_priority[(df_home_priority['device'] == 'AC') & (df_home_priority['weather_type'] == 'low cold') & (df_home_priority['time'] == 'early morning')]\n",
    "\n",
    "sample_total_power = sample_df['power'].sum()"
   ]
  },
  {
   "cell_type": "code",
   "execution_count": 9,
   "metadata": {},
   "outputs": [],
   "source": [
    "power = date_time_group[(date_time_group['date'] == sample_date) & (date_time_group['from_time'] == sample_time)]\n",
    "condition = sample_total_power > power['power'][power['power'].index[0]]"
   ]
  },
  {
   "cell_type": "code",
   "execution_count": 10,
   "metadata": {},
   "outputs": [],
   "source": [
    "priorities = []"
   ]
  },
  {
   "cell_type": "code",
   "execution_count": 11,
   "metadata": {},
   "outputs": [],
   "source": [
    "for index, row in sample_df.iterrows():\n",
    "#     print(row['device'], row['weather_type'], row['time'])\n",
    "    priorities.append(df_home_priority[(df_home_priority['device'] == row['device']) \n",
    "                           & (df_home_priority['weather_type'] == row['weather_type']) \n",
    "                           & (df_home_priority['time'] == row['time'])].values[0][4])"
   ]
  },
  {
   "cell_type": "code",
   "execution_count": 12,
   "metadata": {},
   "outputs": [],
   "source": [
    "priorities = pd.Series(priorities)"
   ]
  },
  {
   "cell_type": "code",
   "execution_count": 13,
   "metadata": {},
   "outputs": [],
   "source": [
    "sample_df = sample_df.assign(priorities=priorities.values)"
   ]
  },
  {
   "cell_type": "code",
   "execution_count": 14,
   "metadata": {},
   "outputs": [],
   "source": [
    "sample_priorities = sample_df.sort_values('priorities')"
   ]
  },
  {
   "cell_type": "code",
   "execution_count": 15,
   "metadata": {},
   "outputs": [
    {
     "data": {
      "text/html": [
       "<div>\n",
       "<style scoped>\n",
       "    .dataframe tbody tr th:only-of-type {\n",
       "        vertical-align: middle;\n",
       "    }\n",
       "\n",
       "    .dataframe tbody tr th {\n",
       "        vertical-align: top;\n",
       "    }\n",
       "\n",
       "    .dataframe thead th {\n",
       "        text-align: right;\n",
       "    }\n",
       "</style>\n",
       "<table border=\"1\" class=\"dataframe\">\n",
       "  <thead>\n",
       "    <tr style=\"text-align: right;\">\n",
       "      <th></th>\n",
       "      <th>date</th>\n",
       "      <th>from_time</th>\n",
       "      <th>power</th>\n",
       "    </tr>\n",
       "  </thead>\n",
       "  <tbody>\n",
       "    <tr>\n",
       "      <th>10</th>\n",
       "      <td>2018-01-01</td>\n",
       "      <td>10:00:00</td>\n",
       "      <td>10160</td>\n",
       "    </tr>\n",
       "  </tbody>\n",
       "</table>\n",
       "</div>"
      ],
      "text/plain": [
       "          date from_time  power\n",
       "10  2018-01-01  10:00:00  10160"
      ]
     },
     "execution_count": 15,
     "metadata": {},
     "output_type": "execute_result"
    }
   ],
   "source": [
    "power"
   ]
  },
  {
   "cell_type": "code",
   "execution_count": 16,
   "metadata": {},
   "outputs": [
    {
     "data": {
      "text/plain": [
       "10411.42578125"
      ]
     },
     "execution_count": 16,
     "metadata": {},
     "output_type": "execute_result"
    }
   ],
   "source": [
    "sample_total_power"
   ]
  },
  {
   "cell_type": "code",
   "execution_count": 17,
   "metadata": {},
   "outputs": [
    {
     "data": {
      "text/html": [
       "<div>\n",
       "<style scoped>\n",
       "    .dataframe tbody tr th:only-of-type {\n",
       "        vertical-align: middle;\n",
       "    }\n",
       "\n",
       "    .dataframe tbody tr th {\n",
       "        vertical-align: top;\n",
       "    }\n",
       "\n",
       "    .dataframe thead th {\n",
       "        text-align: right;\n",
       "    }\n",
       "</style>\n",
       "<table border=\"1\" class=\"dataframe\">\n",
       "  <thead>\n",
       "    <tr style=\"text-align: right;\">\n",
       "      <th></th>\n",
       "      <th>device</th>\n",
       "      <th>room</th>\n",
       "      <th>weather_type</th>\n",
       "      <th>date</th>\n",
       "      <th>from_time</th>\n",
       "      <th>to_time</th>\n",
       "      <th>time</th>\n",
       "      <th>no_of_people</th>\n",
       "      <th>time_stayed_mins</th>\n",
       "      <th>power</th>\n",
       "      <th>priorities</th>\n",
       "      <th>diff</th>\n",
       "    </tr>\n",
       "  </thead>\n",
       "  <tbody>\n",
       "    <tr>\n",
       "      <th>2183</th>\n",
       "      <td>AC</td>\n",
       "      <td>108</td>\n",
       "      <td>very hot</td>\n",
       "      <td>2018-01-01</td>\n",
       "      <td>10:00:00</td>\n",
       "      <td>11:00:00</td>\n",
       "      <td>morning</td>\n",
       "      <td>3</td>\n",
       "      <td>51</td>\n",
       "      <td>1496.125000</td>\n",
       "      <td>14</td>\n",
       "      <td>29.335784</td>\n",
       "    </tr>\n",
       "    <tr>\n",
       "      <th>6</th>\n",
       "      <td>AC</td>\n",
       "      <td>100</td>\n",
       "      <td>low hot</td>\n",
       "      <td>2018-01-01</td>\n",
       "      <td>10:00:00</td>\n",
       "      <td>11:00:00</td>\n",
       "      <td>morning</td>\n",
       "      <td>14</td>\n",
       "      <td>47</td>\n",
       "      <td>1514.121094</td>\n",
       "      <td>38</td>\n",
       "      <td>32.215342</td>\n",
       "    </tr>\n",
       "    <tr>\n",
       "      <th>1883</th>\n",
       "      <td>AC</td>\n",
       "      <td>107</td>\n",
       "      <td>low cold</td>\n",
       "      <td>2018-01-01</td>\n",
       "      <td>10:00:00</td>\n",
       "      <td>11:00:00</td>\n",
       "      <td>morning</td>\n",
       "      <td>12</td>\n",
       "      <td>27</td>\n",
       "      <td>1519.156250</td>\n",
       "      <td>49</td>\n",
       "      <td>56.265046</td>\n",
       "    </tr>\n",
       "    <tr>\n",
       "      <th>1882</th>\n",
       "      <td>AC</td>\n",
       "      <td>107</td>\n",
       "      <td>cold</td>\n",
       "      <td>2018-01-01</td>\n",
       "      <td>10:00:00</td>\n",
       "      <td>11:00:00</td>\n",
       "      <td>morning</td>\n",
       "      <td>14</td>\n",
       "      <td>15</td>\n",
       "      <td>1492.652344</td>\n",
       "      <td>67</td>\n",
       "      <td>99.510156</td>\n",
       "    </tr>\n",
       "    <tr>\n",
       "      <th>7</th>\n",
       "      <td>AC</td>\n",
       "      <td>100</td>\n",
       "      <td>very cold</td>\n",
       "      <td>2018-01-01</td>\n",
       "      <td>10:00:00</td>\n",
       "      <td>11:00:00</td>\n",
       "      <td>morning</td>\n",
       "      <td>3</td>\n",
       "      <td>22</td>\n",
       "      <td>1482.558594</td>\n",
       "      <td>97</td>\n",
       "      <td>67.389027</td>\n",
       "    </tr>\n",
       "    <tr>\n",
       "      <th>810</th>\n",
       "      <td>AC</td>\n",
       "      <td>103</td>\n",
       "      <td>very cold</td>\n",
       "      <td>2018-01-01</td>\n",
       "      <td>10:00:00</td>\n",
       "      <td>11:00:00</td>\n",
       "      <td>morning</td>\n",
       "      <td>2</td>\n",
       "      <td>28</td>\n",
       "      <td>1448.660156</td>\n",
       "      <td>97</td>\n",
       "      <td>51.737863</td>\n",
       "    </tr>\n",
       "    <tr>\n",
       "      <th>4423</th>\n",
       "      <td>AC</td>\n",
       "      <td>117</td>\n",
       "      <td>very cold</td>\n",
       "      <td>2018-01-01</td>\n",
       "      <td>10:00:00</td>\n",
       "      <td>11:00:00</td>\n",
       "      <td>morning</td>\n",
       "      <td>14</td>\n",
       "      <td>29</td>\n",
       "      <td>1458.152344</td>\n",
       "      <td>97</td>\n",
       "      <td>50.281115</td>\n",
       "    </tr>\n",
       "  </tbody>\n",
       "</table>\n",
       "</div>"
      ],
      "text/plain": [
       "     device  room weather_type        date from_time   to_time     time  \\\n",
       "2183     AC   108     very hot  2018-01-01  10:00:00  11:00:00  morning   \n",
       "6        AC   100      low hot  2018-01-01  10:00:00  11:00:00  morning   \n",
       "1883     AC   107     low cold  2018-01-01  10:00:00  11:00:00  morning   \n",
       "1882     AC   107         cold  2018-01-01  10:00:00  11:00:00  morning   \n",
       "7        AC   100    very cold  2018-01-01  10:00:00  11:00:00  morning   \n",
       "810      AC   103    very cold  2018-01-01  10:00:00  11:00:00  morning   \n",
       "4423     AC   117    very cold  2018-01-01  10:00:00  11:00:00  morning   \n",
       "\n",
       "      no_of_people  time_stayed_mins        power  priorities       diff  \n",
       "2183             3                51  1496.125000          14  29.335784  \n",
       "6               14                47  1514.121094          38  32.215342  \n",
       "1883            12                27  1519.156250          49  56.265046  \n",
       "1882            14                15  1492.652344          67  99.510156  \n",
       "7                3                22  1482.558594          97  67.389027  \n",
       "810              2                28  1448.660156          97  51.737863  \n",
       "4423            14                29  1458.152344          97  50.281115  "
      ]
     },
     "execution_count": 17,
     "metadata": {},
     "output_type": "execute_result"
    }
   ],
   "source": [
    "sample_priorities.assign(diff=sample_priorities['power'] / sample_priorities['time_stayed_mins'])"
   ]
  },
  {
   "cell_type": "code",
   "execution_count": null,
   "metadata": {},
   "outputs": [],
   "source": []
  }
 ],
 "metadata": {
  "kernelspec": {
   "display_name": "Python 3",
   "language": "python",
   "name": "python3"
  },
  "language_info": {
   "codemirror_mode": {
    "name": "ipython",
    "version": 3
   },
   "file_extension": ".py",
   "mimetype": "text/x-python",
   "name": "python",
   "nbconvert_exporter": "python",
   "pygments_lexer": "ipython3",
   "version": "3.6.5"
  }
 },
 "nbformat": 4,
 "nbformat_minor": 2
}
