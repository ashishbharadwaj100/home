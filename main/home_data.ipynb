{
 "cells": [
  {
   "cell_type": "code",
   "execution_count": 1,
   "metadata": {},
   "outputs": [],
   "source": [
    "# Home Appliances Data\n",
    "import numpy as np\n",
    "import pandas as pd\n",
    "import matplotlib.pyplot as plt"
   ]
  },
  {
   "cell_type": "code",
   "execution_count": 2,
   "metadata": {},
   "outputs": [],
   "source": [
    "# Import Dataset\n",
    "df = pd.read_csv('../data/home_data.csv')"
   ]
  },
  {
   "cell_type": "code",
   "execution_count": 3,
   "metadata": {},
   "outputs": [
    {
     "data": {
      "text/html": [
       "<div>\n",
       "<style scoped>\n",
       "    .dataframe tbody tr th:only-of-type {\n",
       "        vertical-align: middle;\n",
       "    }\n",
       "\n",
       "    .dataframe tbody tr th {\n",
       "        vertical-align: top;\n",
       "    }\n",
       "\n",
       "    .dataframe thead th {\n",
       "        text-align: right;\n",
       "    }\n",
       "</style>\n",
       "<table border=\"1\" class=\"dataframe\">\n",
       "  <thead>\n",
       "    <tr style=\"text-align: right;\">\n",
       "      <th></th>\n",
       "      <th>device</th>\n",
       "      <th>building</th>\n",
       "      <th>floor</th>\n",
       "      <th>room</th>\n",
       "      <th>type</th>\n",
       "      <th>power</th>\n",
       "      <th>date</th>\n",
       "      <th>from_time</th>\n",
       "      <th>to_time</th>\n",
       "      <th>no_of_people</th>\n",
       "      <th>time_stayed_mins</th>\n",
       "    </tr>\n",
       "  </thead>\n",
       "  <tbody>\n",
       "    <tr>\n",
       "      <th>0</th>\n",
       "      <td>AC</td>\n",
       "      <td>1</td>\n",
       "      <td>1</td>\n",
       "      <td>101.0</td>\n",
       "      <td>indoor</td>\n",
       "      <td>1363</td>\n",
       "      <td>2018-01-01</td>\n",
       "      <td>04:00:00</td>\n",
       "      <td>05:00:00</td>\n",
       "      <td>9</td>\n",
       "      <td>7</td>\n",
       "    </tr>\n",
       "    <tr>\n",
       "      <th>1</th>\n",
       "      <td>Computer</td>\n",
       "      <td>1</td>\n",
       "      <td>1</td>\n",
       "      <td>101.0</td>\n",
       "      <td>indoor</td>\n",
       "      <td>487</td>\n",
       "      <td>2018-01-27</td>\n",
       "      <td>08:00:00</td>\n",
       "      <td>09:00:00</td>\n",
       "      <td>0</td>\n",
       "      <td>17</td>\n",
       "    </tr>\n",
       "    <tr>\n",
       "      <th>2</th>\n",
       "      <td>Computer</td>\n",
       "      <td>1</td>\n",
       "      <td>1</td>\n",
       "      <td>101.0</td>\n",
       "      <td>indoor</td>\n",
       "      <td>464</td>\n",
       "      <td>2018-01-29</td>\n",
       "      <td>05:00:00</td>\n",
       "      <td>06:00:00</td>\n",
       "      <td>1</td>\n",
       "      <td>16</td>\n",
       "    </tr>\n",
       "    <tr>\n",
       "      <th>3</th>\n",
       "      <td>Computer</td>\n",
       "      <td>1</td>\n",
       "      <td>1</td>\n",
       "      <td>101.0</td>\n",
       "      <td>indoor</td>\n",
       "      <td>389</td>\n",
       "      <td>2018-01-30</td>\n",
       "      <td>01:00:00</td>\n",
       "      <td>02:00:00</td>\n",
       "      <td>8</td>\n",
       "      <td>27</td>\n",
       "    </tr>\n",
       "    <tr>\n",
       "      <th>4</th>\n",
       "      <td>Computer</td>\n",
       "      <td>1</td>\n",
       "      <td>1</td>\n",
       "      <td>101.0</td>\n",
       "      <td>indoor</td>\n",
       "      <td>338</td>\n",
       "      <td>2018-01-30</td>\n",
       "      <td>08:00:00</td>\n",
       "      <td>09:00:00</td>\n",
       "      <td>2</td>\n",
       "      <td>4</td>\n",
       "    </tr>\n",
       "  </tbody>\n",
       "</table>\n",
       "</div>"
      ],
      "text/plain": [
       "     device  building  floor   room    type  power        date from_time  \\\n",
       "0        AC         1      1  101.0  indoor   1363  2018-01-01  04:00:00   \n",
       "1  Computer         1      1  101.0  indoor    487  2018-01-27  08:00:00   \n",
       "2  Computer         1      1  101.0  indoor    464  2018-01-29  05:00:00   \n",
       "3  Computer         1      1  101.0  indoor    389  2018-01-30  01:00:00   \n",
       "4  Computer         1      1  101.0  indoor    338  2018-01-30  08:00:00   \n",
       "\n",
       "    to_time  no_of_people  time_stayed_mins  \n",
       "0  05:00:00             9                 7  \n",
       "1  09:00:00             0                17  \n",
       "2  06:00:00             1                16  \n",
       "3  02:00:00             8                27  \n",
       "4  09:00:00             2                 4  "
      ]
     },
     "execution_count": 3,
     "metadata": {},
     "output_type": "execute_result"
    }
   ],
   "source": [
    "df.head()"
   ]
  },
  {
   "cell_type": "code",
   "execution_count": 4,
   "metadata": {},
   "outputs": [],
   "source": [
    "df_total_power = df.groupby('device').sum()['power']"
   ]
  },
  {
   "cell_type": "code",
   "execution_count": 11,
   "metadata": {},
   "outputs": [
    {
     "data": {
      "image/png": "[encoded data removed]",
      "text/plain": [
       "<matplotlib.figure.Figure at 0x14f912cf0b8>"
      ]
     },
     "metadata": {},
     "output_type": "display_data"
    }
   ],
   "source": [
    "plt.figure(figsize=(15,10))\n",
    "df_total_power.plot(kind='bar')\n",
    "# plt.xticks(np.arange(len(df_total_power.index)), df_total_power.index, rotation=30, fontsize=15)\n",
    "plt.xlabel('Devices', fontsize=20)\n",
    "plt.ylabel('Power Consumption (W)', fontsize=20)\n",
    "plt.show()"
   ]
  },
  {
   "cell_type": "code",
   "execution_count": 19,
   "metadata": {},
   "outputs": [
    {
     "data": {
      "text/plain": [
       "date        from_time  to_time   device    type   \n",
       "2018-01-01  00:00:00   01:00:00  AC        indoor      6833\n",
       "                                           outdoor     5640\n",
       "            01:00:00   02:00:00  AC        indoor      1416\n",
       "                                           outdoor    23853\n",
       "            02:00:00   03:00:00  AC        indoor      6144\n",
       "                                           outdoor     9995\n",
       "            03:00:00   04:00:00  AC        indoor      5930\n",
       "                                           outdoor     9764\n",
       "            04:00:00   05:00:00  AC        indoor      5689\n",
       "                                           outdoor    10020\n",
       "            05:00:00   06:00:00  AC        indoor      5477\n",
       "                                           outdoor    12718\n",
       "            06:00:00   07:00:00  AC        indoor      1170\n",
       "                                           outdoor    18161\n",
       "            07:00:00   08:00:00  AC        indoor      8763\n",
       "                                           outdoor     5931\n",
       "            08:00:00   09:00:00  AC        indoor      7758\n",
       "                                           outdoor     6931\n",
       "            09:00:00   10:00:00  AC        indoor      3831\n",
       "                                           outdoor    14137\n",
       "            10:00:00   11:00:00  AC        indoor      5419\n",
       "                                           outdoor    10464\n",
       "            11:00:00   12:00:00  AC        indoor      6807\n",
       "                                           outdoor    11272\n",
       "            12:00:00   13:00:00  AC        indoor      9074\n",
       "                                           outdoor     2170\n",
       "            13:00:00   14:00:00  AC        indoor      2653\n",
       "                                           outdoor    16315\n",
       "            14:00:00   15:00:00  AC        indoor      7483\n",
       "                                           outdoor     5917\n",
       "                                                      ...  \n",
       "2018-01-31  08:00:00   09:00:00  Computer  outdoor     1655\n",
       "            09:00:00   10:00:00  Computer  indoor      1538\n",
       "                                           outdoor     1081\n",
       "            10:00:00   11:00:00  Computer  indoor      1815\n",
       "                                           outdoor     1194\n",
       "            11:00:00   12:00:00  Computer  indoor      2006\n",
       "                                           outdoor      642\n",
       "            12:00:00   13:00:00  Computer  indoor      2107\n",
       "                                           outdoor      807\n",
       "            13:00:00   14:00:00  Computer  indoor      2099\n",
       "                                           outdoor      828\n",
       "            14:00:00   15:00:00  Computer  indoor      1632\n",
       "                                           outdoor     1283\n",
       "            15:00:00   16:00:00  Computer  indoor      2090\n",
       "                                           outdoor      940\n",
       "            16:00:00   17:00:00  Computer  indoor      1533\n",
       "                                           outdoor     1218\n",
       "            17:00:00   18:00:00  Computer  indoor      1605\n",
       "                                           outdoor     1209\n",
       "            18:00:00   19:00:00  Computer  indoor      2664\n",
       "            19:00:00   20:00:00  Computer  indoor       424\n",
       "                                           outdoor     2148\n",
       "            20:00:00   21:00:00  Computer  indoor      1165\n",
       "                                           outdoor     1598\n",
       "            21:00:00   22:00:00  Computer  indoor      2375\n",
       "                                           outdoor      356\n",
       "            22:00:00   23:00:00  Computer  indoor      1549\n",
       "                                           outdoor     1436\n",
       "            23:00:00   00:00:00  Computer  indoor      1122\n",
       "                                           outdoor     1728\n",
       "Name: power, Length: 1686, dtype: int64"
      ]
     },
     "execution_count": 19,
     "metadata": {},
     "output_type": "execute_result"
    }
   ],
   "source": [
    "df_date_group = df.groupby(['date', 'from_time', 'to_time', 'device', 'type']).sum()['power']\n",
    "df_date_group"
   ]
  }
 ],
 "metadata": {
  "kernelspec": {
   "display_name": "Python 3",
   "language": "python",
   "name": "python3"
  },
  "language_info": {
   "codemirror_mode": {
    "name": "ipython",
    "version": 3
   },
   "file_extension": ".py",
   "mimetype": "text/x-python",
   "name": "python",
   "nbconvert_exporter": "python",
   "pygments_lexer": "ipython3",
   "version": "3.6.3"
  }
 },
 "nbformat": 4,
 "nbformat_minor": 2
}
