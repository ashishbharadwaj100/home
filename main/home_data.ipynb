{
 "cells": [
  {
   "cell_type": "code",
   "execution_count": 29,
   "metadata": {},
   "outputs": [],
   "source": [
    "# Home Appliances Data\n",
    "import numpy as np\n",
    "import pandas as pd\n",
    "import matplotlib.pyplot as plt\n",
    "from sklearn.preprocessing import LabelEncoder, OneHotEncoder"
   ]
  },
  {
   "cell_type": "code",
   "execution_count": 30,
   "metadata": {},
   "outputs": [],
   "source": [
    "df = pd.read_excel('../data/home.xlsx')"
   ]
  },
  {
   "cell_type": "code",
   "execution_count": 31,
   "metadata": {},
   "outputs": [
    {
     "data": {
      "image/png": "[encoded data removed]",
      "text/plain": [
       "<matplotlib.figure.Figure at 0x1a2ea8456d8>"
      ]
     },
     "metadata": {},
     "output_type": "display_data"
    }
   ],
   "source": [
    "df_indoor = df[df['type'] == 'indoor']\n",
    "devices = df_indoor[['device','power']].groupby('device').mean()\n",
    "plt.figure(figsize=(10,5))\n",
    "plt.bar(x=devices.index.values, height=devices['power'])\n",
    "plt.show()"
   ]
  },
  {
   "cell_type": "code",
   "execution_count": 37,
   "metadata": {},
   "outputs": [
    {
     "name": "stdout",
     "output_type": "stream",
     "text": [
      "<class 'pandas.core.frame.DataFrame'>\n",
      "RangeIndex: 41 entries, 0 to 40\n",
      "Data columns (total 11 columns):\n",
      "device              41 non-null category\n",
      "building            41 non-null int64\n",
      "floor               41 non-null int64\n",
      "room                35 non-null float64\n",
      "type                41 non-null category\n",
      "power               41 non-null int64\n",
      "date                41 non-null datetime64[ns]\n",
      "from_time           41 non-null object\n",
      "to_time             41 non-null object\n",
      "no_of_people        41 non-null int64\n",
      "time_stayed_mins    41 non-null int64\n",
      "dtypes: category(2), datetime64[ns](1), float64(1), int64(5), object(2)\n",
      "memory usage: 3.5+ KB\n"
     ]
    }
   ],
   "source": [
    "df['device'].astype('category')\n",
    "dummies = pd.get_dummies(df[['device']], prefix_sep='_')\n",
    "categorize_device = lambda x: x.astype('category')\n",
    "df[['device', 'type']] = df[['device', 'type']].apply(categorize_device, axis=0)\n",
    "df.info()"
   ]
  },
  {
   "cell_type": "code",
   "execution_count": null,
   "metadata": {},
   "outputs": [],
   "source": []
  }
 ],
 "metadata": {
  "kernelspec": {
   "display_name": "Python 3",
   "language": "python",
   "name": "python3"
  },
  "language_info": {
   "codemirror_mode": {
    "name": "ipython",
    "version": 3
   },
   "file_extension": ".py",
   "mimetype": "text/x-python",
   "name": "python",
   "nbconvert_exporter": "python",
   "pygments_lexer": "ipython3",
   "version": "3.6.3"
  }
 },
 "nbformat": 4,
 "nbformat_minor": 2
}
