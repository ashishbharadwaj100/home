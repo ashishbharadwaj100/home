{
 "cells": [
  {
   "cell_type": "markdown",
   "metadata": {},
   "source": [
    "# Applying Machine Learning and Deep Learning to identify home appliances consuming excess power\n",
    "\n",
    "## Copyright (c) 2018, Faststream Technologies\n",
    "## Author: Sudhanva Narayana"
   ]
  },
  {
   "cell_type": "code",
   "execution_count": 1,
   "metadata": {},
   "outputs": [],
   "source": [
    "# Home Appliances Data\n",
    "import numpy as np\n",
    "import pandas as pd\n",
    "import sqlite3\n",
    "import matplotlib.pyplot as plt\n",
    "from sqlalchemy import create_engine"
   ]
  },
  {
   "cell_type": "code",
   "execution_count": 2,
   "metadata": {},
   "outputs": [],
   "source": [
    "# Import Dataset\n",
    "df = pd.read_csv('../../data/final_output.csv')"
   ]
  },
  {
   "cell_type": "code",
   "execution_count": 3,
   "metadata": {},
   "outputs": [
    {
     "data": {
      "text/html": [
       "<div>\n",
       "<style scoped>\n",
       "    .dataframe tbody tr th:only-of-type {\n",
       "        vertical-align: middle;\n",
       "    }\n",
       "\n",
       "    .dataframe tbody tr th {\n",
       "        vertical-align: top;\n",
       "    }\n",
       "\n",
       "    .dataframe thead th {\n",
       "        text-align: right;\n",
       "    }\n",
       "</style>\n",
       "<table border=\"1\" class=\"dataframe\">\n",
       "  <thead>\n",
       "    <tr style=\"text-align: right;\">\n",
       "      <th></th>\n",
       "      <th>device</th>\n",
       "      <th>room</th>\n",
       "      <th>weather_type</th>\n",
       "      <th>date</th>\n",
       "      <th>from_time</th>\n",
       "      <th>to_time</th>\n",
       "      <th>time</th>\n",
       "      <th>no_of_people</th>\n",
       "      <th>time_stayed_mins</th>\n",
       "      <th>power</th>\n",
       "      <th>message</th>\n",
       "      <th>action</th>\n",
       "    </tr>\n",
       "  </thead>\n",
       "  <tbody>\n",
       "    <tr>\n",
       "      <th>0</th>\n",
       "      <td>AC</td>\n",
       "      <td>100</td>\n",
       "      <td>hot</td>\n",
       "      <td>01-01-2018</td>\n",
       "      <td>00:00:00</td>\n",
       "      <td>01:00:00</td>\n",
       "      <td>midnight</td>\n",
       "      <td>3</td>\n",
       "      <td>21</td>\n",
       "      <td>1528.898438</td>\n",
       "      <td>Moving 10 people from room 119 to room 105 sav...</td>\n",
       "      <td>Turn off AC in room 119</td>\n",
       "    </tr>\n",
       "    <tr>\n",
       "      <th>1</th>\n",
       "      <td>AC</td>\n",
       "      <td>100</td>\n",
       "      <td>very cold</td>\n",
       "      <td>01-01-2018</td>\n",
       "      <td>00:00:00</td>\n",
       "      <td>01:00:00</td>\n",
       "      <td>midnight</td>\n",
       "      <td>10</td>\n",
       "      <td>5</td>\n",
       "      <td>1512.648438</td>\n",
       "      <td>Moving 10 people from room 119 to room 105 sav...</td>\n",
       "      <td>Turn off AC in room 119</td>\n",
       "    </tr>\n",
       "    <tr>\n",
       "      <th>2</th>\n",
       "      <td>AC</td>\n",
       "      <td>100</td>\n",
       "      <td>cold</td>\n",
       "      <td>01-01-2018</td>\n",
       "      <td>02:00:00</td>\n",
       "      <td>03:00:00</td>\n",
       "      <td>midnight</td>\n",
       "      <td>4</td>\n",
       "      <td>22</td>\n",
       "      <td>1521.007813</td>\n",
       "      <td>Moving 15 people from room 102 to room 105 sav...</td>\n",
       "      <td>Turn off AC in room 102</td>\n",
       "    </tr>\n",
       "    <tr>\n",
       "      <th>3</th>\n",
       "      <td>AC</td>\n",
       "      <td>100</td>\n",
       "      <td>cold</td>\n",
       "      <td>01-01-2018</td>\n",
       "      <td>03:00:00</td>\n",
       "      <td>04:00:00</td>\n",
       "      <td>midnight</td>\n",
       "      <td>3</td>\n",
       "      <td>5</td>\n",
       "      <td>1499.714844</td>\n",
       "      <td>Moving 7 people from room 110 to room 100 save...</td>\n",
       "      <td>Turn off AC in room 110</td>\n",
       "    </tr>\n",
       "    <tr>\n",
       "      <th>4</th>\n",
       "      <td>AC</td>\n",
       "      <td>100</td>\n",
       "      <td>very cold</td>\n",
       "      <td>01-01-2018</td>\n",
       "      <td>05:00:00</td>\n",
       "      <td>06:00:00</td>\n",
       "      <td>early morning</td>\n",
       "      <td>2</td>\n",
       "      <td>35</td>\n",
       "      <td>1507.480469</td>\n",
       "      <td>Moving 2 people from room 100 to room 110 save...</td>\n",
       "      <td>Turn off AC in room 100</td>\n",
       "    </tr>\n",
       "  </tbody>\n",
       "</table>\n",
       "</div>"
      ],
      "text/plain": [
       "  device  room weather_type        date from_time   to_time           time  \\\n",
       "0     AC   100          hot  01-01-2018  00:00:00  01:00:00       midnight   \n",
       "1     AC   100    very cold  01-01-2018  00:00:00  01:00:00       midnight   \n",
       "2     AC   100         cold  01-01-2018  02:00:00  03:00:00       midnight   \n",
       "3     AC   100         cold  01-01-2018  03:00:00  04:00:00       midnight   \n",
       "4     AC   100    very cold  01-01-2018  05:00:00  06:00:00  early morning   \n",
       "\n",
       "   no_of_people  time_stayed_mins        power  \\\n",
       "0             3                21  1528.898438   \n",
       "1            10                 5  1512.648438   \n",
       "2             4                22  1521.007813   \n",
       "3             3                 5  1499.714844   \n",
       "4             2                35  1507.480469   \n",
       "\n",
       "                                             message                   action  \n",
       "0  Moving 10 people from room 119 to room 105 sav...  Turn off AC in room 119  \n",
       "1  Moving 10 people from room 119 to room 105 sav...  Turn off AC in room 119  \n",
       "2  Moving 15 people from room 102 to room 105 sav...  Turn off AC in room 102  \n",
       "3  Moving 7 people from room 110 to room 100 save...  Turn off AC in room 110  \n",
       "4  Moving 2 people from room 100 to room 110 save...  Turn off AC in room 100  "
      ]
     },
     "execution_count": 3,
     "metadata": {},
     "output_type": "execute_result"
    }
   ],
   "source": [
    "df.head()"
   ]
  },
  {
   "cell_type": "code",
   "execution_count": 4,
   "metadata": {},
   "outputs": [],
   "source": [
    "# Total Power Consumption on all devices\n",
    "df_total_power = df.groupby('device').sum()['power']"
   ]
  },
  {
   "cell_type": "markdown",
   "metadata": {},
   "source": [
    "### -----------Total power consumption of all devices------------"
   ]
  },
  {
   "cell_type": "code",
   "execution_count": 5,
   "metadata": {},
   "outputs": [
    {
     "data": {
      "image/png": "[encoded data removed]",
      "text/plain": [
       "<Figure size 1080x720 with 1 Axes>"
      ]
     },
     "metadata": {},
     "output_type": "display_data"
    }
   ],
   "source": [
    "plt.figure(figsize=(15,10))\n",
    "df_total_power.plot(kind='bar')\n",
    "plt.xticks(np.arange(len(df_total_power.index)), df_total_power.index, rotation=30, fontsize=15)\n",
    "plt.xlabel('Devices', fontsize=20)\n",
    "plt.ylabel('Power Consumption (W)', fontsize=20)\n",
    "plt.show()"
   ]
  },
  {
   "cell_type": "code",
   "execution_count": 6,
   "metadata": {},
   "outputs": [],
   "source": [
    "date_time_group = df.groupby(['date','from_time']).sum()['power'].reset_index()"
   ]
  },
  {
   "cell_type": "code",
   "execution_count": 7,
   "metadata": {},
   "outputs": [],
   "source": [
    "date_time_group.to_csv('../../data/final_output_group.csv', index=False)"
   ]
  }
 ],
 "metadata": {
  "kernelspec": {
   "display_name": "Python 3",
   "language": "python",
   "name": "python3"
  },
  "language_info": {
   "codemirror_mode": {
    "name": "ipython",
    "version": 3
   },
   "file_extension": ".py",
   "mimetype": "text/x-python",
   "name": "python",
   "nbconvert_exporter": "python",
   "pygments_lexer": "ipython3",
   "version": "3.6.6"
  }
 },
 "nbformat": 4,
 "nbformat_minor": 2
}
