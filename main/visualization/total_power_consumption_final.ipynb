{
 "cells": [
  {
   "cell_type": "markdown",
   "metadata": {},
   "source": [
    "# Applying Machine Learning and Deep Learning to identify home appliances consuming excess power\n",
    "\n",
    "## Copyright (c) 2018, Faststream Technologies\n",
    "## Author: Sudhanva Narayana"
   ]
  },
  {
   "cell_type": "code",
   "execution_count": 1,
   "metadata": {},
   "outputs": [],
   "source": [
    "# Home Appliances Data\n",
    "import numpy as np\n",
    "import pandas as pd\n",
    "import sqlite3\n",
    "import matplotlib.pyplot as plt\n",
    "from sqlalchemy import create_engine"
   ]
  },
  {
   "cell_type": "code",
   "execution_count": 2,
   "metadata": {},
   "outputs": [],
   "source": [
    "# Import Dataset\n",
    "df = pd.read_csv('../../data/trial_4/final_output_mlr.csv')"
   ]
  },
  {
   "cell_type": "code",
   "execution_count": 3,
   "metadata": {},
   "outputs": [
    {
     "data": {
      "text/html": [
       "<div>\n",
       "<style scoped>\n",
       "    .dataframe tbody tr th:only-of-type {\n",
       "        vertical-align: middle;\n",
       "    }\n",
       "\n",
       "    .dataframe tbody tr th {\n",
       "        vertical-align: top;\n",
       "    }\n",
       "\n",
       "    .dataframe thead th {\n",
       "        text-align: right;\n",
       "    }\n",
       "</style>\n",
       "<table border=\"1\" class=\"dataframe\">\n",
       "  <thead>\n",
       "    <tr style=\"text-align: right;\">\n",
       "      <th></th>\n",
       "      <th>device</th>\n",
       "      <th>room</th>\n",
       "      <th>weather_type</th>\n",
       "      <th>date</th>\n",
       "      <th>from_time</th>\n",
       "      <th>to_time</th>\n",
       "      <th>time</th>\n",
       "      <th>no_of_people</th>\n",
       "      <th>time_stayed_mins</th>\n",
       "      <th>power</th>\n",
       "      <th>message</th>\n",
       "      <th>action</th>\n",
       "      <th>savings</th>\n",
       "    </tr>\n",
       "  </thead>\n",
       "  <tbody>\n",
       "    <tr>\n",
       "      <th>0</th>\n",
       "      <td>AC</td>\n",
       "      <td>100</td>\n",
       "      <td>cold</td>\n",
       "      <td>2018-01-01</td>\n",
       "      <td>01:00:00</td>\n",
       "      <td>02:00:00</td>\n",
       "      <td>midnight</td>\n",
       "      <td>12</td>\n",
       "      <td>42</td>\n",
       "      <td>1488.375000</td>\n",
       "      <td>Moving 3 people from room 110 to room 114 save...</td>\n",
       "      <td>Turn off AC in room 110</td>\n",
       "      <td>1452.554688</td>\n",
       "    </tr>\n",
       "    <tr>\n",
       "      <th>1</th>\n",
       "      <td>AC</td>\n",
       "      <td>100</td>\n",
       "      <td>low hot</td>\n",
       "      <td>2018-01-01</td>\n",
       "      <td>02:00:00</td>\n",
       "      <td>03:00:00</td>\n",
       "      <td>midnight</td>\n",
       "      <td>13</td>\n",
       "      <td>16</td>\n",
       "      <td>1544.921875</td>\n",
       "      <td>Moving 2 people from room 104 to room 119 save...</td>\n",
       "      <td>Turn off AC in room 104</td>\n",
       "      <td>1475.722656</td>\n",
       "    </tr>\n",
       "    <tr>\n",
       "      <th>2</th>\n",
       "      <td>AC</td>\n",
       "      <td>100</td>\n",
       "      <td>very hot</td>\n",
       "      <td>2018-01-01</td>\n",
       "      <td>07:00:00</td>\n",
       "      <td>08:00:00</td>\n",
       "      <td>morning</td>\n",
       "      <td>7</td>\n",
       "      <td>57</td>\n",
       "      <td>1544.890625</td>\n",
       "      <td>Moving 11 people from room 108 to room 113 sav...</td>\n",
       "      <td>Turn off AC in room 108</td>\n",
       "      <td>1490.593750</td>\n",
       "    </tr>\n",
       "    <tr>\n",
       "      <th>3</th>\n",
       "      <td>AC</td>\n",
       "      <td>100</td>\n",
       "      <td>low cold</td>\n",
       "      <td>2018-01-01</td>\n",
       "      <td>10:00:00</td>\n",
       "      <td>11:00:00</td>\n",
       "      <td>morning</td>\n",
       "      <td>11</td>\n",
       "      <td>33</td>\n",
       "      <td>1508.277344</td>\n",
       "      <td>Moving 10 people from room 103 to room 111 sav...</td>\n",
       "      <td>Turn off AC in room 103</td>\n",
       "      <td>1442.601562</td>\n",
       "    </tr>\n",
       "    <tr>\n",
       "      <th>4</th>\n",
       "      <td>AC</td>\n",
       "      <td>100</td>\n",
       "      <td>low cold</td>\n",
       "      <td>2018-01-01</td>\n",
       "      <td>11:00:00</td>\n",
       "      <td>12:00:00</td>\n",
       "      <td>morning</td>\n",
       "      <td>12</td>\n",
       "      <td>50</td>\n",
       "      <td>1523.261719</td>\n",
       "      <td>Moving 1 people from room 109 to room 105 save...</td>\n",
       "      <td>Turn off AC in room 109</td>\n",
       "      <td>1476.855469</td>\n",
       "    </tr>\n",
       "  </tbody>\n",
       "</table>\n",
       "</div>"
      ],
      "text/plain": [
       "  device  room weather_type        date from_time   to_time      time  \\\n",
       "0     AC   100         cold  2018-01-01  01:00:00  02:00:00  midnight   \n",
       "1     AC   100      low hot  2018-01-01  02:00:00  03:00:00  midnight   \n",
       "2     AC   100     very hot  2018-01-01  07:00:00  08:00:00   morning   \n",
       "3     AC   100     low cold  2018-01-01  10:00:00  11:00:00   morning   \n",
       "4     AC   100     low cold  2018-01-01  11:00:00  12:00:00   morning   \n",
       "\n",
       "   no_of_people  time_stayed_mins        power  \\\n",
       "0            12                42  1488.375000   \n",
       "1            13                16  1544.921875   \n",
       "2             7                57  1544.890625   \n",
       "3            11                33  1508.277344   \n",
       "4            12                50  1523.261719   \n",
       "\n",
       "                                             message                   action  \\\n",
       "0  Moving 3 people from room 110 to room 114 save...  Turn off AC in room 110   \n",
       "1  Moving 2 people from room 104 to room 119 save...  Turn off AC in room 104   \n",
       "2  Moving 11 people from room 108 to room 113 sav...  Turn off AC in room 108   \n",
       "3  Moving 10 people from room 103 to room 111 sav...  Turn off AC in room 103   \n",
       "4  Moving 1 people from room 109 to room 105 save...  Turn off AC in room 109   \n",
       "\n",
       "       savings  \n",
       "0  1452.554688  \n",
       "1  1475.722656  \n",
       "2  1490.593750  \n",
       "3  1442.601562  \n",
       "4  1476.855469  "
      ]
     },
     "execution_count": 3,
     "metadata": {},
     "output_type": "execute_result"
    }
   ],
   "source": [
    "df.head()"
   ]
  },
  {
   "cell_type": "code",
   "execution_count": 4,
   "metadata": {},
   "outputs": [],
   "source": [
    "# Total Power Consumption on all devices\n",
    "df_total_power = df.groupby('device').sum()['power']"
   ]
  },
  {
   "cell_type": "markdown",
   "metadata": {},
   "source": [
    "### -----------Total power consumption of all devices------------"
   ]
  },
  {
   "cell_type": "code",
   "execution_count": 5,
   "metadata": {},
   "outputs": [
    {
     "data": {
      "image/png": "[encoded data removed]",
      "text/plain": [
       "<Figure size 1080x720 with 1 Axes>"
      ]
     },
     "metadata": {},
     "output_type": "display_data"
    }
   ],
   "source": [
    "plt.figure(figsize=(15,10))\n",
    "df_total_power.plot(kind='bar')\n",
    "plt.xticks(np.arange(len(df_total_power.index)), df_total_power.index, rotation=30, fontsize=15)\n",
    "plt.xlabel('Devices', fontsize=20)\n",
    "plt.ylabel('Power Consumption (W)', fontsize=20)\n",
    "plt.show()"
   ]
  },
  {
   "cell_type": "code",
   "execution_count": 6,
   "metadata": {},
   "outputs": [],
   "source": [
    "date_time_group = df.groupby(['date','from_time']).sum()['power'].reset_index()"
   ]
  },
  {
   "cell_type": "code",
   "execution_count": 7,
   "metadata": {},
   "outputs": [],
   "source": [
    "date_time_group.to_csv('../../data/trial_4/final_output_group.csv', index=False)"
   ]
  }
 ],
 "metadata": {
  "kernelspec": {
   "display_name": "Python 3",
   "language": "python",
   "name": "python3"
  },
  "language_info": {
   "codemirror_mode": {
    "name": "ipython",
    "version": 3
   },
   "file_extension": ".py",
   "mimetype": "text/x-python",
   "name": "python",
   "nbconvert_exporter": "python",
   "pygments_lexer": "ipython3",
   "version": "3.6.6"
  }
 },
 "nbformat": 4,
 "nbformat_minor": 2
}
