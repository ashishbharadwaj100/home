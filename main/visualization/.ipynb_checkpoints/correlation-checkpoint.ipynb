{
 "cells": [
  {
   "cell_type": "markdown",
   "metadata": {},
   "source": [
    "# Applying Machine Learning and Deep Learning to identify home appliances consuming excess power\n",
    "\n",
    "## Copyright (c) 2018, Faststream Technologies\n",
    "## Author: Sudhanva Narayana"
   ]
  },
  {
   "cell_type": "code",
   "execution_count": 1,
   "metadata": {},
   "outputs": [],
   "source": [
    "# Home Appliances Data\n",
    "import numpy as np\n",
    "import pandas as pd\n",
    "import matplotlib.pyplot as plt"
   ]
  },
  {
   "cell_type": "code",
   "execution_count": 2,
   "metadata": {},
   "outputs": [],
   "source": [
    "# Import Dataset\n",
    "df = pd.read_csv('../../data/home_data.csv')"
   ]
  },
  {
   "cell_type": "markdown",
   "metadata": {},
   "source": [
    "### Dataset"
   ]
  },
  {
   "cell_type": "code",
   "execution_count": 3,
   "metadata": {},
   "outputs": [
    {
     "data": {
      "text/html": [
       "<div>\n",
       "<style scoped>\n",
       "    .dataframe tbody tr th:only-of-type {\n",
       "        vertical-align: middle;\n",
       "    }\n",
       "\n",
       "    .dataframe tbody tr th {\n",
       "        vertical-align: top;\n",
       "    }\n",
       "\n",
       "    .dataframe thead th {\n",
       "        text-align: right;\n",
       "    }\n",
       "</style>\n",
       "<table border=\"1\" class=\"dataframe\">\n",
       "  <thead>\n",
       "    <tr style=\"text-align: right;\">\n",
       "      <th></th>\n",
       "      <th>device</th>\n",
       "      <th>building</th>\n",
       "      <th>floor</th>\n",
       "      <th>room</th>\n",
       "      <th>type</th>\n",
       "      <th>power</th>\n",
       "      <th>date</th>\n",
       "      <th>from_time</th>\n",
       "      <th>to_time</th>\n",
       "      <th>no_of_people</th>\n",
       "      <th>time_stayed_mins</th>\n",
       "    </tr>\n",
       "  </thead>\n",
       "  <tbody>\n",
       "    <tr>\n",
       "      <th>0</th>\n",
       "      <td>AC</td>\n",
       "      <td>1</td>\n",
       "      <td>1</td>\n",
       "      <td>101</td>\n",
       "      <td>indoor</td>\n",
       "      <td>1363</td>\n",
       "      <td>01-01-2018</td>\n",
       "      <td>04:00:00</td>\n",
       "      <td>05:00:00</td>\n",
       "      <td>9</td>\n",
       "      <td>7</td>\n",
       "    </tr>\n",
       "    <tr>\n",
       "      <th>1</th>\n",
       "      <td>Computer</td>\n",
       "      <td>1</td>\n",
       "      <td>1</td>\n",
       "      <td>101</td>\n",
       "      <td>indoor</td>\n",
       "      <td>487</td>\n",
       "      <td>27-01-2018</td>\n",
       "      <td>08:00:00</td>\n",
       "      <td>09:00:00</td>\n",
       "      <td>0</td>\n",
       "      <td>0</td>\n",
       "    </tr>\n",
       "    <tr>\n",
       "      <th>2</th>\n",
       "      <td>Computer</td>\n",
       "      <td>1</td>\n",
       "      <td>1</td>\n",
       "      <td>101</td>\n",
       "      <td>indoor</td>\n",
       "      <td>464</td>\n",
       "      <td>29-01-2018</td>\n",
       "      <td>05:00:00</td>\n",
       "      <td>06:00:00</td>\n",
       "      <td>1</td>\n",
       "      <td>16</td>\n",
       "    </tr>\n",
       "    <tr>\n",
       "      <th>3</th>\n",
       "      <td>Computer</td>\n",
       "      <td>1</td>\n",
       "      <td>1</td>\n",
       "      <td>101</td>\n",
       "      <td>indoor</td>\n",
       "      <td>389</td>\n",
       "      <td>30-01-2018</td>\n",
       "      <td>01:00:00</td>\n",
       "      <td>02:00:00</td>\n",
       "      <td>8</td>\n",
       "      <td>27</td>\n",
       "    </tr>\n",
       "    <tr>\n",
       "      <th>4</th>\n",
       "      <td>Computer</td>\n",
       "      <td>1</td>\n",
       "      <td>1</td>\n",
       "      <td>101</td>\n",
       "      <td>indoor</td>\n",
       "      <td>338</td>\n",
       "      <td>30-01-2018</td>\n",
       "      <td>08:00:00</td>\n",
       "      <td>09:00:00</td>\n",
       "      <td>2</td>\n",
       "      <td>4</td>\n",
       "    </tr>\n",
       "  </tbody>\n",
       "</table>\n",
       "</div>"
      ],
      "text/plain": [
       "     device  building  floor  room    type  power        date from_time  \\\n",
       "0        AC         1      1   101  indoor   1363  01-01-2018  04:00:00   \n",
       "1  Computer         1      1   101  indoor    487  27-01-2018  08:00:00   \n",
       "2  Computer         1      1   101  indoor    464  29-01-2018  05:00:00   \n",
       "3  Computer         1      1   101  indoor    389  30-01-2018  01:00:00   \n",
       "4  Computer         1      1   101  indoor    338  30-01-2018  08:00:00   \n",
       "\n",
       "    to_time  no_of_people  time_stayed_mins  \n",
       "0  05:00:00             9                 7  \n",
       "1  09:00:00             0                 0  \n",
       "2  06:00:00             1                16  \n",
       "3  02:00:00             8                27  \n",
       "4  09:00:00             2                 4  "
      ]
     },
     "execution_count": 3,
     "metadata": {},
     "output_type": "execute_result"
    }
   ],
   "source": [
    "df.head()"
   ]
  },
  {
   "cell_type": "markdown",
   "metadata": {},
   "source": [
    "### Group by room and time"
   ]
  },
  {
   "cell_type": "code",
   "execution_count": 4,
   "metadata": {},
   "outputs": [
    {
     "data": {
      "text/plain": [
       "room  time_stayed_mins\n",
       "0     0                    0\n",
       "      1                   16\n",
       "      2                    6\n",
       "      3                   15\n",
       "      4                    6\n",
       "      5                   13\n",
       "      6                   17\n",
       "      7                   24\n",
       "      8                   16\n",
       "      9                   38\n",
       "      10                  23\n",
       "      11                   4\n",
       "      12                  27\n",
       "      13                   9\n",
       "      14                   6\n",
       "      15                  10\n",
       "      16                  41\n",
       "      17                  12\n",
       "      18                  21\n",
       "      19                  23\n",
       "      20                  13\n",
       "      21                  15\n",
       "      22                   1\n",
       "      23                  13\n",
       "      24                   8\n",
       "      25                  21\n",
       "      26                  12\n",
       "      27                  13\n",
       "      28                  22\n",
       "      30                  20\n",
       "                          ..\n",
       "803   19                   7\n",
       "804   7                   10\n",
       "      20                   6\n",
       "805   23                   2\n",
       "      24                   1\n",
       "806   16                   9\n",
       "807   8                    8\n",
       "      14                   7\n",
       "      21                   2\n",
       "901   0                    0\n",
       "      17                   1\n",
       "902   6                    7\n",
       "      12                   3\n",
       "      14                   4\n",
       "903   5                    1\n",
       "      8                   10\n",
       "      30                   3\n",
       "904   0                    0\n",
       "      21                   8\n",
       "905   20                   7\n",
       "907   5                    7\n",
       "1001  9                    7\n",
       "1002  27                   1\n",
       "1003  3                    1\n",
       "      10                   4\n",
       "      27                   1\n",
       "1004  0                    0\n",
       "      13                   8\n",
       "1006  3                    2\n",
       "1007  27                   4\n",
       "Name: no_of_people, Length: 134, dtype: int64"
      ]
     },
     "execution_count": 4,
     "metadata": {},
     "output_type": "execute_result"
    }
   ],
   "source": [
    "df_morning = df[df['from_time'] == '00:00:00' ]\n",
    "df_people_room = df_morning.groupby(['room', 'time_stayed_mins']).sum()['no_of_people']\n",
    "df_people_room"
   ]
  }
 ],
 "metadata": {
  "kernelspec": {
   "display_name": "Python 3",
   "language": "python",
   "name": "python3"
  },
  "language_info": {
   "codemirror_mode": {
    "name": "ipython",
    "version": 3
   },
   "file_extension": ".py",
   "mimetype": "text/x-python",
   "name": "python",
   "nbconvert_exporter": "python",
   "pygments_lexer": "ipython3",
   "version": "3.6.5"
  }
 },
 "nbformat": 4,
 "nbformat_minor": 2
}
