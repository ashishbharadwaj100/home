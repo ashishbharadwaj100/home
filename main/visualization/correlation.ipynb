{
 "cells": [
  {
   "cell_type": "markdown",
   "metadata": {},
   "source": [
    "# Applying Machine Learning and Deep Learning to identify home appliances consuming excess power\n",
    "\n",
    "## Copyright (c) 2018, Faststream Technologies\n",
    "## Author: Sudhanva Narayana"
   ]
  },
  {
   "cell_type": "code",
   "execution_count": 1,
   "metadata": {},
   "outputs": [],
   "source": [
    "# Home Appliances Data\n",
    "import numpy as np\n",
    "import pandas as pd\n",
    "import matplotlib.pyplot as plt"
   ]
  },
  {
   "cell_type": "code",
   "execution_count": 2,
   "metadata": {},
   "outputs": [],
   "source": [
    "# Import Dataset\n",
    "df = pd.read_csv('../../data/home_data.csv')"
   ]
  },
  {
   "cell_type": "markdown",
   "metadata": {},
   "source": [
    "### Dataset"
   ]
  },
  {
   "cell_type": "code",
   "execution_count": 3,
   "metadata": {},
   "outputs": [
    {
     "data": {
      "text/html": [
       "<div>\n",
       "<style scoped>\n",
       "    .dataframe tbody tr th:only-of-type {\n",
       "        vertical-align: middle;\n",
       "    }\n",
       "\n",
       "    .dataframe tbody tr th {\n",
       "        vertical-align: top;\n",
       "    }\n",
       "\n",
       "    .dataframe thead th {\n",
       "        text-align: right;\n",
       "    }\n",
       "</style>\n",
       "<table border=\"1\" class=\"dataframe\">\n",
       "  <thead>\n",
       "    <tr style=\"text-align: right;\">\n",
       "      <th></th>\n",
       "      <th>device</th>\n",
       "      <th>building</th>\n",
       "      <th>room</th>\n",
       "      <th>weather_type</th>\n",
       "      <th>date</th>\n",
       "      <th>from_time</th>\n",
       "      <th>to_time</th>\n",
       "      <th>time</th>\n",
       "      <th>no_of_people</th>\n",
       "      <th>time_stayed_mins</th>\n",
       "      <th>power</th>\n",
       "    </tr>\n",
       "  </thead>\n",
       "  <tbody>\n",
       "    <tr>\n",
       "      <th>0</th>\n",
       "      <td>AC</td>\n",
       "      <td>1</td>\n",
       "      <td>101</td>\n",
       "      <td>very cold</td>\n",
       "      <td>02-01-2018</td>\n",
       "      <td>16:00:00</td>\n",
       "      <td>17:00:00</td>\n",
       "      <td>evening</td>\n",
       "      <td>3</td>\n",
       "      <td>6</td>\n",
       "      <td>1945</td>\n",
       "    </tr>\n",
       "    <tr>\n",
       "      <th>1</th>\n",
       "      <td>Heater</td>\n",
       "      <td>1</td>\n",
       "      <td>101</td>\n",
       "      <td>very cold</td>\n",
       "      <td>22-01-2018</td>\n",
       "      <td>20:00:00</td>\n",
       "      <td>21:00:00</td>\n",
       "      <td>night</td>\n",
       "      <td>6</td>\n",
       "      <td>27</td>\n",
       "      <td>2791</td>\n",
       "    </tr>\n",
       "    <tr>\n",
       "      <th>2</th>\n",
       "      <td>Lights</td>\n",
       "      <td>1</td>\n",
       "      <td>101</td>\n",
       "      <td>very cold</td>\n",
       "      <td>05-01-2018</td>\n",
       "      <td>09:00:00</td>\n",
       "      <td>10:00:00</td>\n",
       "      <td>morning</td>\n",
       "      <td>7</td>\n",
       "      <td>18</td>\n",
       "      <td>1165</td>\n",
       "    </tr>\n",
       "    <tr>\n",
       "      <th>3</th>\n",
       "      <td>Microwave</td>\n",
       "      <td>1</td>\n",
       "      <td>101</td>\n",
       "      <td>very cold</td>\n",
       "      <td>23-01-2018</td>\n",
       "      <td>06:00:00</td>\n",
       "      <td>07:00:00</td>\n",
       "      <td>early morning</td>\n",
       "      <td>8</td>\n",
       "      <td>9</td>\n",
       "      <td>1089</td>\n",
       "    </tr>\n",
       "    <tr>\n",
       "      <th>4</th>\n",
       "      <td>Microwave</td>\n",
       "      <td>1</td>\n",
       "      <td>101</td>\n",
       "      <td>very cold</td>\n",
       "      <td>25-01-2018</td>\n",
       "      <td>20:00:00</td>\n",
       "      <td>21:00:00</td>\n",
       "      <td>night</td>\n",
       "      <td>7</td>\n",
       "      <td>5</td>\n",
       "      <td>1893</td>\n",
       "    </tr>\n",
       "  </tbody>\n",
       "</table>\n",
       "</div>"
      ],
      "text/plain": [
       "      device  building  room weather_type        date from_time   to_time  \\\n",
       "0         AC         1   101    very cold  02-01-2018  16:00:00  17:00:00   \n",
       "1     Heater         1   101    very cold  22-01-2018  20:00:00  21:00:00   \n",
       "2     Lights         1   101    very cold  05-01-2018  09:00:00  10:00:00   \n",
       "3  Microwave         1   101    very cold  23-01-2018  06:00:00  07:00:00   \n",
       "4  Microwave         1   101    very cold  25-01-2018  20:00:00  21:00:00   \n",
       "\n",
       "            time  no_of_people  time_stayed_mins  power  \n",
       "0        evening             3                 6   1945  \n",
       "1          night             6                27   2791  \n",
       "2        morning             7                18   1165  \n",
       "3  early morning             8                 9   1089  \n",
       "4          night             7                 5   1893  "
      ]
     },
     "execution_count": 3,
     "metadata": {},
     "output_type": "execute_result"
    }
   ],
   "source": [
    "df.head()"
   ]
  },
  {
   "cell_type": "markdown",
   "metadata": {},
   "source": [
    "### Group by room and time"
   ]
  },
  {
   "cell_type": "code",
   "execution_count": 4,
   "metadata": {},
   "outputs": [
    {
     "data": {
      "text/plain": [
       "room  time_stayed_mins\n",
       "105   23                   3\n",
       "201   26                   1\n",
       "203   25                   7\n",
       "206   7                    7\n",
       "      19                   9\n",
       "302   19                   3\n",
       "      27                   3\n",
       "307   6                    9\n",
       "      18                  10\n",
       "402   16                  10\n",
       "405   3                    4\n",
       "      21                   3\n",
       "502   14                   3\n",
       "504   4                    2\n",
       "506   0                    0\n",
       "603   23                   1\n",
       "804   29                   9\n",
       "805   0                    0\n",
       "903   16                   1\n",
       "904   0                    0\n",
       "1106  18                   3\n",
       "1201  23                   4\n",
       "1203  8                    4\n",
       "1205  22                   1\n",
       "1207  12                   8\n",
       "1302  0                    0\n",
       "1401  0                    0\n",
       "1405  5                    6\n",
       "1406  28                   6\n",
       "1502  7                   10\n",
       "                          ..\n",
       "8703  6                    7\n",
       "8705  5                    5\n",
       "8706  0                    0\n",
       "      28                   4\n",
       "8801  0                    0\n",
       "      5                    3\n",
       "8806  2                    5\n",
       "      20                   8\n",
       "8901  5                    3\n",
       "9002  6                    3\n",
       "9007  2                    9\n",
       "9101  0                    0\n",
       "9104  14                   3\n",
       "9105  0                    0\n",
       "9106  14                   4\n",
       "9204  8                    4\n",
       "      30                   1\n",
       "9206  20                  10\n",
       "9302  9                    4\n",
       "9402  2                    1\n",
       "      9                    1\n",
       "9501  10                   3\n",
       "9502  14                   8\n",
       "9702  0                    0\n",
       "9704  21                  10\n",
       "9707  8                    3\n",
       "9801  30                   6\n",
       "9803  18                   2\n",
       "9901  13                   1\n",
       "9904  8                   10\n",
       "Name: no_of_people, Length: 217, dtype: int64"
      ]
     },
     "execution_count": 4,
     "metadata": {},
     "output_type": "execute_result"
    }
   ],
   "source": [
    "df_morning = df[df['from_time'] == '00:00:00' ]\n",
    "df_people_room = df_morning.groupby(['room', 'time_stayed_mins']).sum()['no_of_people']\n",
    "df_people_room"
   ]
  }
 ],
 "metadata": {
  "kernelspec": {
   "display_name": "Python 3",
   "language": "python",
   "name": "python3"
  },
  "language_info": {
   "codemirror_mode": {
    "name": "ipython",
    "version": 3
   },
   "file_extension": ".py",
   "mimetype": "text/x-python",
   "name": "python",
   "nbconvert_exporter": "python",
   "pygments_lexer": "ipython3",
   "version": "3.6.5"
  }
 },
 "nbformat": 4,
 "nbformat_minor": 2
}
