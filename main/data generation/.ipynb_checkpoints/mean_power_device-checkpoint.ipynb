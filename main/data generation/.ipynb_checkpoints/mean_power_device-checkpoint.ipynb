{
 "cells": [
  {
   "cell_type": "markdown",
   "metadata": {},
   "source": [
    "# Applying Machine Learning and Deep Learning to identify home appliances consuming excess power\n",
    "\n",
    "## Copyright (c) 2018, Faststream Technologies\n",
    "## Author: Sudhanva Narayana"
   ]
  },
  {
   "cell_type": "code",
   "execution_count": 1,
   "metadata": {},
   "outputs": [],
   "source": [
    "# Home Appliances Data\n",
    "import numpy as np\n",
    "import pandas as pd\n",
    "import pdb\n",
    "import matplotlib.pyplot as plt"
   ]
  },
  {
   "cell_type": "code",
   "execution_count": 2,
   "metadata": {},
   "outputs": [],
   "source": [
    "# Import Dataset\n",
    "df = pd.read_csv('../../data/home_data.csv')"
   ]
  },
  {
   "cell_type": "code",
   "execution_count": 3,
   "metadata": {},
   "outputs": [],
   "source": [
    "# Group by time, device and type and calculate mean on power\n",
    "df_devices = df.groupby(['from_time', 'device', 'weather_type']).mean()['power']"
   ]
  },
  {
   "cell_type": "markdown",
   "metadata": {},
   "source": [
    "### Create a data structure of mean power consumption"
   ]
  },
  {
   "cell_type": "code",
   "execution_count": 4,
   "metadata": {},
   "outputs": [],
   "source": [
    "# Unstack index and convert to a dictionary\n",
    "dicto = df_devices.unstack(level=1).unstack().to_dict('index')\n",
    "\n",
    "# Create dictionary for types and devices\n",
    "df_dict = {}\n",
    "df_type = {}\n",
    "\n",
    "# Update tuple based keys to string based keys\n",
    "for i, j in dicto.items():\n",
    "    for key, value in j.items():\n",
    "        df_type[key[1]] = value\n",
    "        df_dict[key[0]] = df_type.copy()\n",
    "    dicto[i] = df_dict.copy()"
   ]
  },
  {
   "cell_type": "code",
   "execution_count": 5,
   "metadata": {},
   "outputs": [
    {
     "data": {
      "text/html": [
       "<div>\n",
       "<style scoped>\n",
       "    .dataframe tbody tr th:only-of-type {\n",
       "        vertical-align: middle;\n",
       "    }\n",
       "\n",
       "    .dataframe tbody tr th {\n",
       "        vertical-align: top;\n",
       "    }\n",
       "\n",
       "    .dataframe thead th {\n",
       "        text-align: right;\n",
       "    }\n",
       "</style>\n",
       "<table border=\"1\" class=\"dataframe\">\n",
       "  <thead>\n",
       "    <tr style=\"text-align: right;\">\n",
       "      <th></th>\n",
       "      <th>device</th>\n",
       "      <th>building</th>\n",
       "      <th>room</th>\n",
       "      <th>weather_type</th>\n",
       "      <th>date</th>\n",
       "      <th>from_time</th>\n",
       "      <th>to_time</th>\n",
       "      <th>time</th>\n",
       "      <th>no_of_people</th>\n",
       "      <th>time_stayed_mins</th>\n",
       "      <th>power</th>\n",
       "    </tr>\n",
       "  </thead>\n",
       "  <tbody>\n",
       "    <tr>\n",
       "      <th>0</th>\n",
       "      <td>Television</td>\n",
       "      <td>1</td>\n",
       "      <td>101</td>\n",
       "      <td>low cold</td>\n",
       "      <td>2018-01-10</td>\n",
       "      <td>00:00:00</td>\n",
       "      <td>01:00:00</td>\n",
       "      <td>midnight</td>\n",
       "      <td>9</td>\n",
       "      <td>39</td>\n",
       "      <td>217</td>\n",
       "    </tr>\n",
       "    <tr>\n",
       "      <th>1</th>\n",
       "      <td>Television</td>\n",
       "      <td>1</td>\n",
       "      <td>101</td>\n",
       "      <td>low cold</td>\n",
       "      <td>2018-01-10</td>\n",
       "      <td>01:00:00</td>\n",
       "      <td>02:00:00</td>\n",
       "      <td>midnight</td>\n",
       "      <td>1</td>\n",
       "      <td>24</td>\n",
       "      <td>288</td>\n",
       "    </tr>\n",
       "    <tr>\n",
       "      <th>2</th>\n",
       "      <td>Television</td>\n",
       "      <td>1</td>\n",
       "      <td>101</td>\n",
       "      <td>low cold</td>\n",
       "      <td>2018-01-10</td>\n",
       "      <td>05:00:00</td>\n",
       "      <td>06:00:00</td>\n",
       "      <td>early morning</td>\n",
       "      <td>8</td>\n",
       "      <td>14</td>\n",
       "      <td>280</td>\n",
       "    </tr>\n",
       "    <tr>\n",
       "      <th>3</th>\n",
       "      <td>Television</td>\n",
       "      <td>1</td>\n",
       "      <td>101</td>\n",
       "      <td>low cold</td>\n",
       "      <td>2018-01-10</td>\n",
       "      <td>05:00:00</td>\n",
       "      <td>06:00:00</td>\n",
       "      <td>early morning</td>\n",
       "      <td>13</td>\n",
       "      <td>11</td>\n",
       "      <td>289</td>\n",
       "    </tr>\n",
       "    <tr>\n",
       "      <th>4</th>\n",
       "      <td>Television</td>\n",
       "      <td>1</td>\n",
       "      <td>101</td>\n",
       "      <td>low cold</td>\n",
       "      <td>2018-01-10</td>\n",
       "      <td>06:00:00</td>\n",
       "      <td>07:00:00</td>\n",
       "      <td>early morning</td>\n",
       "      <td>9</td>\n",
       "      <td>37</td>\n",
       "      <td>229</td>\n",
       "    </tr>\n",
       "  </tbody>\n",
       "</table>\n",
       "</div>"
      ],
      "text/plain": [
       "       device  building  room weather_type        date from_time   to_time  \\\n",
       "0  Television         1   101     low cold  2018-01-10  00:00:00  01:00:00   \n",
       "1  Television         1   101     low cold  2018-01-10  01:00:00  02:00:00   \n",
       "2  Television         1   101     low cold  2018-01-10  05:00:00  06:00:00   \n",
       "3  Television         1   101     low cold  2018-01-10  05:00:00  06:00:00   \n",
       "4  Television         1   101     low cold  2018-01-10  06:00:00  07:00:00   \n",
       "\n",
       "            time  no_of_people  time_stayed_mins  power  \n",
       "0       midnight             9                39    217  \n",
       "1       midnight             1                24    288  \n",
       "2  early morning             8                14    280  \n",
       "3  early morning            13                11    289  \n",
       "4  early morning             9                37    229  "
      ]
     },
     "execution_count": 5,
     "metadata": {},
     "output_type": "execute_result"
    }
   ],
   "source": [
    "df.head()"
   ]
  },
  {
   "cell_type": "code",
   "execution_count": 6,
   "metadata": {},
   "outputs": [],
   "source": [
    "# Create a target list based on the mean power level\n",
    "target_list = []\n",
    "\n",
    "for index, row in df.iterrows():\n",
    "    if row['power'] > dicto[row['from_time']][row['device']][row['weather_type']]:\n",
    "        target_list.append(0)\n",
    "    else:\n",
    "        target_list.append(1)"
   ]
  },
  {
   "cell_type": "code",
   "execution_count": 7,
   "metadata": {},
   "outputs": [],
   "source": [
    "# Append target list to the original dataframe\n",
    "df['target'] = pd.Series(target_list)"
   ]
  },
  {
   "cell_type": "code",
   "execution_count": 8,
   "metadata": {},
   "outputs": [],
   "source": [
    "# Convert dataframe to csv\n",
    "df.to_csv('../../data/home_clf.csv', index=False)"
   ]
  }
 ],
 "metadata": {
  "kernelspec": {
   "display_name": "Python 3",
   "language": "python",
   "name": "python3"
  },
  "language_info": {
   "codemirror_mode": {
    "name": "ipython",
    "version": 3
   },
   "file_extension": ".py",
   "mimetype": "text/x-python",
   "name": "python",
   "nbconvert_exporter": "python",
   "pygments_lexer": "ipython3",
   "version": "3.6.5"
  }
 },
 "nbformat": 4,
 "nbformat_minor": 2
}
