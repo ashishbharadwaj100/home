{
 "cells": [
  {
   "cell_type": "markdown",
   "metadata": {},
   "source": [
    "# Applying Machine Learning and Deep Learning to identify home appliances consuming excess power\n",
    "\n",
    "## Copyright (c) 2018, Faststream Technologies\n",
    "## Author: Sudhanva Narayana"
   ]
  },
  {
   "cell_type": "code",
   "execution_count": 1,
   "metadata": {},
   "outputs": [],
   "source": [
    "# Home Appliances Data\n",
    "import numpy as np\n",
    "import pandas as pd\n",
    "import pdb\n",
    "import matplotlib.pyplot as plt"
   ]
  },
  {
   "cell_type": "code",
   "execution_count": 2,
   "metadata": {},
   "outputs": [],
   "source": [
    "# Import Dataset\n",
    "df = pd.read_csv('../../data/home_data.csv')"
   ]
  },
  {
   "cell_type": "code",
   "execution_count": 3,
   "metadata": {},
   "outputs": [],
   "source": [
    "# Group by time, device and type and calculate mean on power\n",
    "df_devices = df.groupby(['from_time', 'device', 'weather_type']).mean()['power']"
   ]
  },
  {
   "cell_type": "markdown",
   "metadata": {},
   "source": [
    "### Create a data structure of mean power consumption"
   ]
  },
  {
   "cell_type": "code",
   "execution_count": 4,
   "metadata": {},
   "outputs": [],
   "source": [
    "# Unstack index and convert to a dictionary\n",
    "dicto = df_devices.unstack(level=1).unstack().to_dict('index')\n",
    "\n",
    "# Create dictionary for types and devices\n",
    "df_dict = {}\n",
    "df_type = {}\n",
    "\n",
    "# Update tuple based keys to string based keys\n",
    "for i, j in dicto.items():\n",
    "    for key, value in j.items():\n",
    "        df_type[key[1]] = value\n",
    "        df_dict[key[0]] = df_type.copy()\n",
    "    dicto[i] = df_dict.copy()"
   ]
  },
  {
   "cell_type": "code",
   "execution_count": 5,
   "metadata": {},
   "outputs": [
    {
     "data": {
      "text/html": [
       "<div>\n",
       "<style scoped>\n",
       "    .dataframe tbody tr th:only-of-type {\n",
       "        vertical-align: middle;\n",
       "    }\n",
       "\n",
       "    .dataframe tbody tr th {\n",
       "        vertical-align: top;\n",
       "    }\n",
       "\n",
       "    .dataframe thead th {\n",
       "        text-align: right;\n",
       "    }\n",
       "</style>\n",
       "<table border=\"1\" class=\"dataframe\">\n",
       "  <thead>\n",
       "    <tr style=\"text-align: right;\">\n",
       "      <th></th>\n",
       "      <th>device</th>\n",
       "      <th>room</th>\n",
       "      <th>weather_type</th>\n",
       "      <th>date</th>\n",
       "      <th>from_time</th>\n",
       "      <th>to_time</th>\n",
       "      <th>time</th>\n",
       "      <th>no_of_people</th>\n",
       "      <th>time_stayed_mins</th>\n",
       "      <th>power</th>\n",
       "    </tr>\n",
       "  </thead>\n",
       "  <tbody>\n",
       "    <tr>\n",
       "      <th>0</th>\n",
       "      <td>AC</td>\n",
       "      <td>100</td>\n",
       "      <td>low cold</td>\n",
       "      <td>2018-01-01</td>\n",
       "      <td>03:00:00</td>\n",
       "      <td>04:00:00</td>\n",
       "      <td>midnight</td>\n",
       "      <td>12</td>\n",
       "      <td>29</td>\n",
       "      <td>1091</td>\n",
       "    </tr>\n",
       "    <tr>\n",
       "      <th>1</th>\n",
       "      <td>AC</td>\n",
       "      <td>100</td>\n",
       "      <td>low hot</td>\n",
       "      <td>2018-01-01</td>\n",
       "      <td>05:00:00</td>\n",
       "      <td>06:00:00</td>\n",
       "      <td>early morning</td>\n",
       "      <td>15</td>\n",
       "      <td>53</td>\n",
       "      <td>1055</td>\n",
       "    </tr>\n",
       "    <tr>\n",
       "      <th>2</th>\n",
       "      <td>AC</td>\n",
       "      <td>100</td>\n",
       "      <td>low hot</td>\n",
       "      <td>2018-01-01</td>\n",
       "      <td>09:00:00</td>\n",
       "      <td>10:00:00</td>\n",
       "      <td>morning</td>\n",
       "      <td>6</td>\n",
       "      <td>26</td>\n",
       "      <td>1914</td>\n",
       "    </tr>\n",
       "    <tr>\n",
       "      <th>3</th>\n",
       "      <td>AC</td>\n",
       "      <td>100</td>\n",
       "      <td>cold</td>\n",
       "      <td>2018-01-01</td>\n",
       "      <td>13:00:00</td>\n",
       "      <td>14:00:00</td>\n",
       "      <td>afternoon</td>\n",
       "      <td>8</td>\n",
       "      <td>40</td>\n",
       "      <td>1980</td>\n",
       "    </tr>\n",
       "    <tr>\n",
       "      <th>4</th>\n",
       "      <td>AC</td>\n",
       "      <td>100</td>\n",
       "      <td>low cold</td>\n",
       "      <td>2018-01-01</td>\n",
       "      <td>14:00:00</td>\n",
       "      <td>15:00:00</td>\n",
       "      <td>afternoon</td>\n",
       "      <td>5</td>\n",
       "      <td>50</td>\n",
       "      <td>1531</td>\n",
       "    </tr>\n",
       "  </tbody>\n",
       "</table>\n",
       "</div>"
      ],
      "text/plain": [
       "  device  room weather_type        date from_time   to_time           time  \\\n",
       "0     AC   100     low cold  2018-01-01  03:00:00  04:00:00       midnight   \n",
       "1     AC   100      low hot  2018-01-01  05:00:00  06:00:00  early morning   \n",
       "2     AC   100      low hot  2018-01-01  09:00:00  10:00:00        morning   \n",
       "3     AC   100         cold  2018-01-01  13:00:00  14:00:00      afternoon   \n",
       "4     AC   100     low cold  2018-01-01  14:00:00  15:00:00      afternoon   \n",
       "\n",
       "   no_of_people  time_stayed_mins  power  \n",
       "0            12                29   1091  \n",
       "1            15                53   1055  \n",
       "2             6                26   1914  \n",
       "3             8                40   1980  \n",
       "4             5                50   1531  "
      ]
     },
     "execution_count": 5,
     "metadata": {},
     "output_type": "execute_result"
    }
   ],
   "source": [
    "df.head()"
   ]
  },
  {
   "cell_type": "code",
   "execution_count": 6,
   "metadata": {},
   "outputs": [],
   "source": [
    "# Create a target list based on the mean power level\n",
    "target_list = []\n",
    "\n",
    "for index, row in df.iterrows():\n",
    "    if row['power'] > dicto[row['from_time']][row['device']][row['weather_type']]:\n",
    "        target_list.append(0)\n",
    "    else:\n",
    "        target_list.append(1)"
   ]
  },
  {
   "cell_type": "code",
   "execution_count": 7,
   "metadata": {},
   "outputs": [],
   "source": [
    "# Append target list to the original dataframe\n",
    "df['target'] = pd.Series(target_list)"
   ]
  },
  {
   "cell_type": "code",
   "execution_count": 8,
   "metadata": {},
   "outputs": [],
   "source": [
    "# Convert dataframe to csv\n",
    "df.to_csv('../../data/home_clf.csv', index=False)"
   ]
  }
 ],
 "metadata": {
  "kernelspec": {
   "display_name": "Python 3",
   "language": "python",
   "name": "python3"
  },
  "language_info": {
   "codemirror_mode": {
    "name": "ipython",
    "version": 3
   },
   "file_extension": ".py",
   "mimetype": "text/x-python",
   "name": "python",
   "nbconvert_exporter": "python",
   "pygments_lexer": "ipython3",
   "version": "3.6.6"
  }
 },
 "nbformat": 4,
 "nbformat_minor": 2
}
