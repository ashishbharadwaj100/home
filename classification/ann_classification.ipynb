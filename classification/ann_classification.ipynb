{
 "cells": [
  {
   "cell_type": "code",
   "execution_count": 1,
   "metadata": {
    "collapsed": true
   },
   "outputs": [],
   "source": [
    "# Importing the libraries\n",
    "import numpy as np\n",
    "import matplotlib.pyplot as plt\n",
    "import pandas as pd"
   ]
  },
  {
   "cell_type": "code",
   "execution_count": 2,
   "metadata": {
    "collapsed": true
   },
   "outputs": [],
   "source": [
    "# Importing the dataset\n",
    "dataset = pd.read_csv('../data/home_final.csv')\n",
    "X = dataset.iloc[:, [0, 3, 4, 5, 6, 7, 9, 10]].values\n",
    "y = dataset.iloc[:, 11].values"
   ]
  },
  {
   "cell_type": "code",
   "execution_count": 3,
   "metadata": {
    "collapsed": true
   },
   "outputs": [],
   "source": [
    "# ------ Part-1: Data preprocessing ----------\n",
    "\n",
    "# Encoding categorical data\n",
    "from sklearn.preprocessing import LabelEncoder, OneHotEncoder\n",
    "\n",
    "labelencoder_X_0 = LabelEncoder()\n",
    "X[:, 0] = labelencoder_X_0.fit_transform(X[:, 0])\n",
    "labelencoder_X_1 = LabelEncoder()\n",
    "X[:, 1] = labelencoder_X_1.fit_transform(X[:, 1])\n",
    "labelencoder_X_2 = LabelEncoder()\n",
    "X[:, 2] = labelencoder_X_2.fit_transform(X[:, 2])\n",
    "labelencoder_X_4 = LabelEncoder()\n",
    "X[:, 4] = labelencoder_X_4.fit_transform(X[:, 4])\n",
    "labelencoder_X_5 = LabelEncoder()\n",
    "X[:, 5] = labelencoder_X_5.fit_transform(X[:, 5])\n",
    "# labelencoder_X_6 = LabelEncoder()\n",
    "# X[:, 6] = labelencoder_X_6.fit_transform(X[:, 6])\n",
    "# labelencoder_X_7 = LabelEncoder()\n",
    "# X[:, 7] = labelencoder_X_7.fit_transform(X[:, 7])"
   ]
  },
  {
   "cell_type": "code",
   "execution_count": 4,
   "metadata": {
    "collapsed": true
   },
   "outputs": [],
   "source": [
    "onehotencoder = OneHotEncoder(categorical_features=[0, 1, 2, 4, 5])\n",
    "hot_X = onehotencoder.fit_transform(X).toarray()"
   ]
  },
  {
   "cell_type": "code",
   "execution_count": 5,
   "metadata": {},
   "outputs": [],
   "source": [
    "# Removing dummy variables\n",
    "hot_X = np.delete(hot_X, [0, 1, 2, 4, 5], 1)"
   ]
  },
  {
   "cell_type": "code",
   "execution_count": 6,
   "metadata": {
    "collapsed": true
   },
   "outputs": [],
   "source": [
    "# Splitting the dataset into the Training set and Test set\n",
    "from sklearn.model_selection import train_test_split\n",
    "X_train, X_test, y_train, y_test = train_test_split(hot_X, y, test_size=0.2, random_state=0)"
   ]
  },
  {
   "cell_type": "code",
   "execution_count": 7,
   "metadata": {
    "collapsed": true
   },
   "outputs": [],
   "source": [
    "# Feature Scaling\n",
    "from sklearn.preprocessing import StandardScaler\n",
    "sc_X = StandardScaler()\n",
    "X_train = sc_X.fit_transform(X_train)\n",
    "X_test = sc_X.transform(X_test)"
   ]
  },
  {
   "cell_type": "code",
   "execution_count": 8,
   "metadata": {},
   "outputs": [
    {
     "name": "stderr",
     "output_type": "stream",
     "text": [
      "Using TensorFlow backend.\n"
     ]
    }
   ],
   "source": [
    "# ------- Part-2: Build the ANN --------\n",
    "\n",
    "# import keras library and packages\n",
    "import keras\n",
    "from keras.models import Sequential\n",
    "from keras.layers import Dense\n",
    "\n",
    "# Initializing the ANN\n",
    "classifier = Sequential()"
   ]
  },
  {
   "cell_type": "code",
   "execution_count": 9,
   "metadata": {},
   "outputs": [],
   "source": [
    "# Adding the input layer and the first hidden layer\n",
    "layer_info = Dense(activation='relu', input_dim=133, units=65, kernel_initializer='uniform')\n",
    "classifier.add(layer_info)\n",
    "\n",
    "# Adding second hidden layer\n",
    "layer_info = Dense(activation='relu', units=65, kernel_initializer='uniform')\n",
    "classifier.add(layer_info)\n",
    "\n",
    "# Adding third hidden layer\n",
    "layer_info = Dense(activation='relu', units=65, kernel_initializer='uniform')\n",
    "classifier.add(layer_info)\n",
    "\n",
    "# Adding output layer\n",
    "layer_info = Dense(activation='sigmoid', units=1, kernel_initializer='uniform')\n",
    "classifier.add(layer_info)"
   ]
  },
  {
   "cell_type": "code",
   "execution_count": 10,
   "metadata": {},
   "outputs": [],
   "source": [
    "# Compiling the ANN\n",
    "classifier.compile(optimizer='adam', loss='binary_crossentropy', metrics=['accuracy'])"
   ]
  },
  {
   "cell_type": "code",
   "execution_count": 11,
   "metadata": {},
   "outputs": [
    {
     "name": "stdout",
     "output_type": "stream",
     "text": [
      "Epoch 1/100\n",
      "4166/4166 [==============================] - 3s 745us/step - loss: 0.6838 - acc: 0.5247\n",
      "Epoch 2/100\n",
      "4166/4166 [==============================] - 1s 335us/step - loss: 0.6184 - acc: 0.6399\n",
      "Epoch 3/100\n",
      "4166/4166 [==============================] - 1s 336us/step - loss: 0.5464 - acc: 0.6956\n",
      "Epoch 4/100\n",
      "4166/4166 [==============================] - 1s 336us/step - loss: 0.4938 - acc: 0.7244\n",
      "Epoch 5/100\n",
      "4166/4166 [==============================] - 1s 334us/step - loss: 0.4365 - acc: 0.7720\n",
      "Epoch 6/100\n",
      "4166/4166 [==============================] - 1s 335us/step - loss: 0.3873 - acc: 0.8024\n",
      "Epoch 7/100\n",
      "4166/4166 [==============================] - 1s 338us/step - loss: 0.3384 - acc: 0.8286\n",
      "Epoch 8/100\n",
      "4166/4166 [==============================] - 1s 327us/step - loss: 0.3016 - acc: 0.8483\n",
      "Epoch 9/100\n",
      "4166/4166 [==============================] - 1s 331us/step - loss: 0.2770 - acc: 0.8675\n",
      "Epoch 10/100\n",
      "4166/4166 [==============================] - 1s 333us/step - loss: 0.2500 - acc: 0.8773\n",
      "Epoch 11/100\n",
      "4166/4166 [==============================] - 1s 329us/step - loss: 0.2321 - acc: 0.8910\n",
      "Epoch 12/100\n",
      "4166/4166 [==============================] - 1s 330us/step - loss: 0.2042 - acc: 0.9052\n",
      "Epoch 13/100\n",
      "4166/4166 [==============================] - 1s 332us/step - loss: 0.2009 - acc: 0.9040\n",
      "Epoch 14/100\n",
      "4166/4166 [==============================] - 1s 329us/step - loss: 0.1915 - acc: 0.9112\n",
      "Epoch 15/100\n",
      "4166/4166 [==============================] - 1s 332us/step - loss: 0.1771 - acc: 0.9217\n",
      "Epoch 16/100\n",
      "4166/4166 [==============================] - 1s 333us/step - loss: 0.1611 - acc: 0.9246\n",
      "Epoch 17/100\n",
      "4166/4166 [==============================] - 1s 333us/step - loss: 0.1605 - acc: 0.9234\n",
      "Epoch 18/100\n",
      "4166/4166 [==============================] - 1s 329us/step - loss: 0.1582 - acc: 0.9277\n",
      "Epoch 19/100\n",
      "4166/4166 [==============================] - 1s 334us/step - loss: 0.1529 - acc: 0.9277\n",
      "Epoch 20/100\n",
      "4166/4166 [==============================] - 1s 332us/step - loss: 0.1484 - acc: 0.9287\n",
      "Epoch 21/100\n",
      "4166/4166 [==============================] - 1s 335us/step - loss: 0.1495 - acc: 0.9277\n",
      "Epoch 22/100\n",
      "4166/4166 [==============================] - 1s 327us/step - loss: 0.1353 - acc: 0.9345\n",
      "Epoch 23/100\n",
      "4166/4166 [==============================] - 1s 323us/step - loss: 0.1306 - acc: 0.9383\n",
      "Epoch 24/100\n",
      "4166/4166 [==============================] - 1s 321us/step - loss: 0.1257 - acc: 0.9395\n",
      "Epoch 25/100\n",
      "4166/4166 [==============================] - 1s 325us/step - loss: 0.1383 - acc: 0.9386\n",
      "Epoch 26/100\n",
      "4166/4166 [==============================] - 1s 328us/step - loss: 0.1229 - acc: 0.9386\n",
      "Epoch 27/100\n",
      "4166/4166 [==============================] - 1s 335us/step - loss: 0.1273 - acc: 0.9429\n",
      "Epoch 28/100\n",
      "4166/4166 [==============================] - 1s 326us/step - loss: 0.1144 - acc: 0.9482\n",
      "Epoch 29/100\n",
      "4166/4166 [==============================] - 1s 325us/step - loss: 0.1211 - acc: 0.9436\n",
      "Epoch 30/100\n",
      "4166/4166 [==============================] - 1s 325us/step - loss: 0.1172 - acc: 0.9441\n",
      "Epoch 31/100\n",
      "4166/4166 [==============================] - 1s 334us/step - loss: 0.1145 - acc: 0.9455\n",
      "Epoch 32/100\n",
      "4166/4166 [==============================] - 1s 328us/step - loss: 0.1054 - acc: 0.9486\n",
      "Epoch 33/100\n",
      "4166/4166 [==============================] - 1s 330us/step - loss: 0.1023 - acc: 0.9506\n",
      "Epoch 34/100\n",
      "4166/4166 [==============================] - 1s 332us/step - loss: 0.0991 - acc: 0.9527\n",
      "Epoch 35/100\n",
      "4166/4166 [==============================] - 1s 329us/step - loss: 0.1140 - acc: 0.9494\n",
      "Epoch 36/100\n",
      "4166/4166 [==============================] - 1s 313us/step - loss: 0.1091 - acc: 0.9537\n",
      "Epoch 37/100\n",
      "4166/4166 [==============================] - 1s 313us/step - loss: 0.1064 - acc: 0.9510\n",
      "Epoch 38/100\n",
      "4166/4166 [==============================] - 1s 312us/step - loss: 0.1007 - acc: 0.9534\n",
      "Epoch 39/100\n",
      "4166/4166 [==============================] - 1s 312us/step - loss: 0.0978 - acc: 0.9573\n",
      "Epoch 40/100\n",
      "4166/4166 [==============================] - 1s 314us/step - loss: 0.0836 - acc: 0.9623\n",
      "Epoch 41/100\n",
      "4166/4166 [==============================] - 1s 316us/step - loss: 0.0944 - acc: 0.9578\n",
      "Epoch 42/100\n",
      "4166/4166 [==============================] - 1s 328us/step - loss: 0.0944 - acc: 0.9575\n",
      "Epoch 43/100\n",
      "4166/4166 [==============================] - 1s 313us/step - loss: 0.0974 - acc: 0.9539\n",
      "Epoch 44/100\n",
      "4166/4166 [==============================] - 1s 314us/step - loss: 0.0953 - acc: 0.9582\n",
      "Epoch 45/100\n",
      "4166/4166 [==============================] - 1s 308us/step - loss: 0.0877 - acc: 0.9590\n",
      "Epoch 46/100\n",
      "4166/4166 [==============================] - 1s 312us/step - loss: 0.0846 - acc: 0.9618\n",
      "Epoch 47/100\n",
      "4166/4166 [==============================] - 1s 315us/step - loss: 0.0811 - acc: 0.9621\n",
      "Epoch 48/100\n",
      "4166/4166 [==============================] - 1s 321us/step - loss: 0.0840 - acc: 0.9647\n",
      "Epoch 49/100\n",
      "4166/4166 [==============================] - 1s 336us/step - loss: 0.0737 - acc: 0.9669\n",
      "Epoch 50/100\n",
      "4166/4166 [==============================] - 1s 331us/step - loss: 0.0664 - acc: 0.9686\n",
      "Epoch 51/100\n",
      "4166/4166 [==============================] - 1s 329us/step - loss: 0.0904 - acc: 0.9590\n",
      "Epoch 52/100\n",
      "4166/4166 [==============================] - 1s 322us/step - loss: 0.0877 - acc: 0.9611\n",
      "Epoch 53/100\n",
      "4166/4166 [==============================] - 1s 318us/step - loss: 0.0872 - acc: 0.9618\n",
      "Epoch 54/100\n",
      "4166/4166 [==============================] - 1s 318us/step - loss: 0.0834 - acc: 0.9662\n",
      "Epoch 55/100\n",
      "4166/4166 [==============================] - 1s 315us/step - loss: 0.0653 - acc: 0.9690\n",
      "Epoch 56/100\n",
      "4166/4166 [==============================] - 1s 328us/step - loss: 0.0687 - acc: 0.9676\n",
      "Epoch 57/100\n",
      "4166/4166 [==============================] - 1s 328us/step - loss: 0.0633 - acc: 0.9688\n",
      "Epoch 58/100\n",
      "4166/4166 [==============================] - 1s 313us/step - loss: 0.0651 - acc: 0.9710\n",
      "Epoch 59/100\n",
      "4166/4166 [==============================] - 1s 316us/step - loss: 0.0816 - acc: 0.9652\n",
      "Epoch 60/100\n",
      "4166/4166 [==============================] - 1s 315us/step - loss: 0.0754 - acc: 0.9681\n",
      "Epoch 61/100\n",
      "4166/4166 [==============================] - 1s 320us/step - loss: 0.0687 - acc: 0.9712\n",
      "Epoch 62/100\n",
      "4166/4166 [==============================] - 1s 315us/step - loss: 0.0595 - acc: 0.9731\n",
      "Epoch 63/100\n",
      "4166/4166 [==============================] - 1s 331us/step - loss: 0.0571 - acc: 0.9743\n",
      "Epoch 64/100\n",
      "4166/4166 [==============================] - 1s 313us/step - loss: 0.0681 - acc: 0.9719\n",
      "Epoch 65/100\n",
      "4166/4166 [==============================] - 1s 313us/step - loss: 0.0725 - acc: 0.9714\n",
      "Epoch 66/100\n",
      "4166/4166 [==============================] - 1s 313us/step - loss: 0.0533 - acc: 0.9750\n",
      "Epoch 67/100\n",
      "4166/4166 [==============================] - 1s 314us/step - loss: 0.0530 - acc: 0.9784\n",
      "Epoch 68/100\n",
      "4166/4166 [==============================] - 1s 310us/step - loss: 0.0550 - acc: 0.9755\n",
      "Epoch 69/100\n",
      "4166/4166 [==============================] - 1s 308us/step - loss: 0.0522 - acc: 0.9786\n",
      "Epoch 70/100\n",
      "4166/4166 [==============================] - 1s 310us/step - loss: 0.0601 - acc: 0.9777\n",
      "Epoch 71/100\n",
      "4166/4166 [==============================] - 1s 310us/step - loss: 0.0614 - acc: 0.9726\n",
      "Epoch 72/100\n",
      "4166/4166 [==============================] - 1s 325us/step - loss: 0.0707 - acc: 0.9693\n",
      "Epoch 73/100\n",
      "4166/4166 [==============================] - 1s 305us/step - loss: 0.0494 - acc: 0.9779\n",
      "Epoch 74/100\n",
      "4166/4166 [==============================] - 1s 306us/step - loss: 0.0515 - acc: 0.9770\n",
      "Epoch 75/100\n",
      "4166/4166 [==============================] - 1s 308us/step - loss: 0.0491 - acc: 0.9789\n",
      "Epoch 76/100\n",
      "4166/4166 [==============================] - 1s 306us/step - loss: 0.0618 - acc: 0.9738\n",
      "Epoch 77/100\n",
      "4166/4166 [==============================] - 1s 306us/step - loss: 0.0478 - acc: 0.9791\n",
      "Epoch 78/100\n",
      "4166/4166 [==============================] - 1s 306us/step - loss: 0.0500 - acc: 0.9774\n",
      "Epoch 79/100\n",
      "4166/4166 [==============================] - 1s 305us/step - loss: 0.0540 - acc: 0.9784\n",
      "Epoch 80/100\n",
      "4166/4166 [==============================] - 1s 306us/step - loss: 0.0445 - acc: 0.9801\n",
      "Epoch 81/100\n",
      "4166/4166 [==============================] - 1s 306us/step - loss: 0.0497 - acc: 0.9810\n",
      "Epoch 82/100\n",
      "4166/4166 [==============================] - 1s 307us/step - loss: 0.0426 - acc: 0.9815\n",
      "Epoch 83/100\n",
      "4166/4166 [==============================] - 1s 306us/step - loss: 0.0539 - acc: 0.9786\n",
      "Epoch 84/100\n",
      "4166/4166 [==============================] - 1s 316us/step - loss: 0.0550 - acc: 0.9774\n",
      "Epoch 85/100\n",
      "4166/4166 [==============================] - 1s 308us/step - loss: 0.0425 - acc: 0.9827\n",
      "Epoch 86/100\n",
      "4166/4166 [==============================] - 1s 321us/step - loss: 0.0398 - acc: 0.9837\n",
      "Epoch 87/100\n",
      "4166/4166 [==============================] - 1s 311us/step - loss: 0.0486 - acc: 0.9820\n",
      "Epoch 88/100\n",
      "4166/4166 [==============================] - 1s 305us/step - loss: 0.0486 - acc: 0.9825\n",
      "Epoch 89/100\n",
      "4166/4166 [==============================] - 1s 305us/step - loss: 0.0368 - acc: 0.9844\n",
      "Epoch 90/100\n",
      "4166/4166 [==============================] - 1s 306us/step - loss: 0.0596 - acc: 0.9803\n",
      "Epoch 91/100\n",
      "4166/4166 [==============================] - 1s 303us/step - loss: 0.0489 - acc: 0.9808\n",
      "Epoch 92/100\n",
      "4166/4166 [==============================] - 1s 307us/step - loss: 0.0402 - acc: 0.9837\n",
      "Epoch 93/100\n",
      "4166/4166 [==============================] - 1s 303us/step - loss: 0.0338 - acc: 0.9849\n",
      "Epoch 94/100\n",
      "4166/4166 [==============================] - 1s 303us/step - loss: 0.0408 - acc: 0.9834\n",
      "Epoch 95/100\n",
      "4166/4166 [==============================] - 1s 306us/step - loss: 0.0310 - acc: 0.9861\n",
      "Epoch 96/100\n",
      "4166/4166 [==============================] - 1s 310us/step - loss: 0.0307 - acc: 0.9875\n",
      "Epoch 97/100\n",
      "4166/4166 [==============================] - 1s 304us/step - loss: 0.0328 - acc: 0.9861\n",
      "Epoch 98/100\n",
      "4166/4166 [==============================] - 1s 308us/step - loss: 0.0353 - acc: 0.9839\n",
      "Epoch 99/100\n",
      "4166/4166 [==============================] - 1s 305us/step - loss: 0.0533 - acc: 0.9801\n",
      "Epoch 100/100\n",
      "4166/4166 [==============================] - 1s 302us/step - loss: 0.0457 - acc: 0.9820\n"
     ]
    },
    {
     "data": {
      "text/plain": [
       "<keras.callbacks.History at 0x27800ea6b00>"
      ]
     },
     "execution_count": 11,
     "metadata": {},
     "output_type": "execute_result"
    }
   ],
   "source": [
    "# Fitting the ANN to the training set\n",
    "classifier.fit(X_train, y_train, batch_size=10, epochs=100)"
   ]
  },
  {
   "cell_type": "code",
   "execution_count": 12,
   "metadata": {
    "collapsed": true
   },
   "outputs": [],
   "source": [
    "# Predicting the Test set results\n",
    "y_pred = classifier.predict(X_test)\n",
    "y_pred = (y_pred > 0.5)\n",
    "\n",
    "# Making the confusion Matrix\n",
    "from sklearn.metrics import confusion_matrix\n",
    "cm = confusion_matrix(y_test, y_pred)"
   ]
  },
  {
   "cell_type": "code",
   "execution_count": 13,
   "metadata": {},
   "outputs": [
    {
     "data": {
      "text/plain": [
       "array([[355, 161],\n",
       "       [133, 393]], dtype=int64)"
      ]
     },
     "execution_count": 13,
     "metadata": {},
     "output_type": "execute_result"
    }
   ],
   "source": [
    "cm"
   ]
  },
  {
   "cell_type": "code",
   "execution_count": null,
   "metadata": {},
   "outputs": [],
   "source": []
  }
 ],
 "metadata": {
  "kernelspec": {
   "display_name": "Python 3",
   "language": "python",
   "name": "python3"
  },
  "language_info": {
   "codemirror_mode": {
    "name": "ipython",
    "version": 3
   },
   "file_extension": ".py",
   "mimetype": "text/x-python",
   "name": "python",
   "nbconvert_exporter": "python",
   "pygments_lexer": "ipython3",
   "version": "3.6.5"
  }
 },
 "nbformat": 4,
 "nbformat_minor": 2
}
