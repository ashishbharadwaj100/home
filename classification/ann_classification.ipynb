{
 "cells": [
  {
   "cell_type": "markdown",
   "metadata": {},
   "source": [
    "# Applying Machine Learning and Deep Learning to identify home appliances consuming excess power\n",
    "\n",
    "## Copyright (c) 2018, Faststream Technologies\n",
    "## Author: Sudhanva Narayana"
   ]
  },
  {
   "cell_type": "code",
   "execution_count": 1,
   "metadata": {
    "collapsed": true
   },
   "outputs": [],
   "source": [
    "# Importing the libraries\n",
    "import numpy as np\n",
    "import matplotlib.pyplot as plt\n",
    "import pandas as pd"
   ]
  },
  {
   "cell_type": "code",
   "execution_count": 2,
   "metadata": {
    "collapsed": true
   },
   "outputs": [],
   "source": [
    "# Importing the dataset\n",
    "dataset = pd.read_csv('../data/home_final.csv')\n",
    "X = dataset.iloc[:, [0, 3, 4, 5, 6, 7, 9, 10]].values\n",
    "y = dataset.iloc[:, 11].values"
   ]
  },
  {
   "cell_type": "markdown",
   "metadata": {},
   "source": [
    "### Data Preprocessing"
   ]
  },
  {
   "cell_type": "code",
   "execution_count": 3,
   "metadata": {
    "collapsed": true
   },
   "outputs": [],
   "source": [
    "# Encoding categorical data\n",
    "from sklearn.preprocessing import LabelEncoder, OneHotEncoder\n",
    "\n",
    "labelencoder_X_0 = LabelEncoder()\n",
    "X[:, 0] = labelencoder_X_0.fit_transform(X[:, 0])\n",
    "labelencoder_X_1 = LabelEncoder()\n",
    "X[:, 1] = labelencoder_X_1.fit_transform(X[:, 1])\n",
    "labelencoder_X_2 = LabelEncoder()\n",
    "X[:, 2] = labelencoder_X_2.fit_transform(X[:, 2])\n",
    "labelencoder_X_4 = LabelEncoder()\n",
    "X[:, 4] = labelencoder_X_4.fit_transform(X[:, 4])\n",
    "labelencoder_X_5 = LabelEncoder()\n",
    "X[:, 5] = labelencoder_X_5.fit_transform(X[:, 5])"
   ]
  },
  {
   "cell_type": "code",
   "execution_count": 4,
   "metadata": {
    "collapsed": true
   },
   "outputs": [],
   "source": [
    "onehotencoder = OneHotEncoder(categorical_features=[0, 1, 2, 4, 5])\n",
    "hot_X = onehotencoder.fit_transform(X).toarray()"
   ]
  },
  {
   "cell_type": "code",
   "execution_count": 5,
   "metadata": {},
   "outputs": [],
   "source": [
    "columns = dataset.columns\n",
    "dummies = []\n",
    "dummies_sum = 0\n",
    "categories = [0, 1, 2, 4, 5]\n",
    "\n",
    "for category in categories:\n",
    "    dummies_sum += category * (dataset.iloc[:, category].unique().size)\n",
    "    dummies.append(dummies_sum)"
   ]
  },
  {
   "cell_type": "code",
   "execution_count": 6,
   "metadata": {},
   "outputs": [
    {
     "name": "stderr",
     "output_type": "stream",
     "text": [
      "C:\\Users\\Sudhanva\\Anaconda3\\envs\\tf\\lib\\site-packages\\ipykernel_launcher.py:2: DeprecationWarning: in the future out of bounds indices will raise an error instead of being ignored by `numpy.delete`.\n",
      "  \n"
     ]
    }
   ],
   "source": [
    "# Removing dummy variables\n",
    "hot_X = np.delete(hot_X, dummies, 1)"
   ]
  },
  {
   "cell_type": "code",
   "execution_count": 7,
   "metadata": {
    "collapsed": true
   },
   "outputs": [],
   "source": [
    "# Splitting the dataset into the Training set and Test set\n",
    "from sklearn.model_selection import train_test_split\n",
    "X_train, X_test, y_train, y_test = train_test_split(hot_X, y, test_size=0.2, random_state=0)"
   ]
  },
  {
   "cell_type": "code",
   "execution_count": 8,
   "metadata": {
    "collapsed": true
   },
   "outputs": [],
   "source": [
    "# Feature Scaling\n",
    "from sklearn.preprocessing import StandardScaler\n",
    "sc_X = StandardScaler()\n",
    "X_train = sc_X.fit_transform(X_train)\n",
    "X_test = sc_X.transform(X_test)"
   ]
  },
  {
   "cell_type": "markdown",
   "metadata": {},
   "source": [
    "### Building the Artificial Neural Network"
   ]
  },
  {
   "cell_type": "code",
   "execution_count": 9,
   "metadata": {},
   "outputs": [
    {
     "name": "stderr",
     "output_type": "stream",
     "text": [
      "Using TensorFlow backend.\n"
     ]
    }
   ],
   "source": [
    "# import keras library and packages\n",
    "import keras\n",
    "import tensorflow as tf\n",
    "from keras.models import Sequential\n",
    "from keras.layers import Dense\n",
    "\n",
    "# Initializing the ANN\n",
    "classifier = Sequential()"
   ]
  },
  {
   "cell_type": "code",
   "execution_count": 10,
   "metadata": {},
   "outputs": [],
   "source": [
    "# Adding the input layer and the first hidden layer\n",
    "layer_info = Dense(activation='relu', input_dim=134, units=65, kernel_initializer='uniform')\n",
    "classifier.add(layer_info)\n",
    "\n",
    "# Adding second hidden layer\n",
    "layer_info = Dense(activation='relu', units=65, kernel_initializer='uniform')\n",
    "classifier.add(layer_info)\n",
    "\n",
    "# Adding third hidden layer\n",
    "layer_info = Dense(activation='relu', units=65, kernel_initializer='uniform')\n",
    "classifier.add(layer_info)\n",
    "\n",
    "# Adding output layer\n",
    "layer_info = Dense(activation='sigmoid', units=1, kernel_initializer='uniform')\n",
    "classifier.add(layer_info)"
   ]
  },
  {
   "cell_type": "code",
   "execution_count": 11,
   "metadata": {},
   "outputs": [],
   "source": [
    "# Compiling the ANN\n",
    "classifier.compile(optimizer='adam', loss='binary_crossentropy', metrics=['accuracy'])"
   ]
  },
  {
   "cell_type": "code",
   "execution_count": 12,
   "metadata": {},
   "outputs": [
    {
     "name": "stdout",
     "output_type": "stream",
     "text": [
      "Epoch 1/100\n",
      "4166/4166 [==============================] - 2s 567us/step - loss: 0.6931 - acc: 0.5024\n",
      "Epoch 2/100\n",
      "4166/4166 [==============================] - 0s 36us/step - loss: 0.6860 - acc: 0.5723\n",
      "Epoch 3/100\n",
      "4166/4166 [==============================] - 0s 34us/step - loss: 0.6287 - acc: 0.6426\n",
      "Epoch 4/100\n",
      "4166/4166 [==============================] - 0s 33us/step - loss: 0.5571 - acc: 0.7026\n",
      "Epoch 5/100\n",
      "4166/4166 [==============================] - 0s 33us/step - loss: 0.4595 - acc: 0.7734\n",
      "Epoch 6/100\n",
      "4166/4166 [==============================] - 0s 33us/step - loss: 0.3660 - acc: 0.8289\n",
      "Epoch 7/100\n",
      "4166/4166 [==============================] - 0s 33us/step - loss: 0.3123 - acc: 0.8579\n",
      "Epoch 8/100\n",
      "4166/4166 [==============================] - 0s 33us/step - loss: 0.2623 - acc: 0.8850\n",
      "Epoch 9/100\n",
      "4166/4166 [==============================] - 0s 33us/step - loss: 0.2282 - acc: 0.8975\n",
      "Epoch 10/100\n",
      "4166/4166 [==============================] - 0s 33us/step - loss: 0.2029 - acc: 0.9131\n",
      "Epoch 11/100\n",
      "4166/4166 [==============================] - 0s 33us/step - loss: 0.1801 - acc: 0.9232\n",
      "Epoch 12/100\n",
      "4166/4166 [==============================] - 0s 35us/step - loss: 0.1725 - acc: 0.9237\n",
      "Epoch 13/100\n",
      "4166/4166 [==============================] - 0s 34us/step - loss: 0.1571 - acc: 0.9287\n",
      "Epoch 14/100\n",
      "4166/4166 [==============================] - 0s 33us/step - loss: 0.1460 - acc: 0.9393\n",
      "Epoch 15/100\n",
      "4166/4166 [==============================] - 0s 33us/step - loss: 0.1374 - acc: 0.9390\n",
      "Epoch 16/100\n",
      "4166/4166 [==============================] - 0s 34us/step - loss: 0.1304 - acc: 0.9412\n",
      "Epoch 17/100\n",
      "4166/4166 [==============================] - 0s 33us/step - loss: 0.1162 - acc: 0.9470\n",
      "Epoch 18/100\n",
      "4166/4166 [==============================] - 0s 35us/step - loss: 0.1185 - acc: 0.9484\n",
      "Epoch 19/100\n",
      "4166/4166 [==============================] - 0s 34us/step - loss: 0.1152 - acc: 0.9503\n",
      "Epoch 20/100\n",
      "4166/4166 [==============================] - 0s 33us/step - loss: 0.1076 - acc: 0.9515\n",
      "Epoch 21/100\n",
      "4166/4166 [==============================] - 0s 33us/step - loss: 0.1084 - acc: 0.9513\n",
      "Epoch 22/100\n",
      "4166/4166 [==============================] - 0s 34us/step - loss: 0.1014 - acc: 0.9549\n",
      "Epoch 23/100\n",
      "4166/4166 [==============================] - 0s 34us/step - loss: 0.1022 - acc: 0.9578\n",
      "Epoch 24/100\n",
      "4166/4166 [==============================] - 0s 34us/step - loss: 0.0857 - acc: 0.9597\n",
      "Epoch 25/100\n",
      "4166/4166 [==============================] - 0s 33us/step - loss: 0.0902 - acc: 0.9590\n",
      "Epoch 26/100\n",
      "4166/4166 [==============================] - 0s 34us/step - loss: 0.0892 - acc: 0.9638\n",
      "Epoch 27/100\n",
      "4166/4166 [==============================] - 0s 34us/step - loss: 0.0792 - acc: 0.9645\n",
      "Epoch 28/100\n",
      "4166/4166 [==============================] - 0s 33us/step - loss: 0.0842 - acc: 0.9640\n",
      "Epoch 29/100\n",
      "4166/4166 [==============================] - 0s 34us/step - loss: 0.0761 - acc: 0.9664\n",
      "Epoch 30/100\n",
      "4166/4166 [==============================] - 0s 34us/step - loss: 0.0897 - acc: 0.9626\n",
      "Epoch 31/100\n",
      "4166/4166 [==============================] - 0s 34us/step - loss: 0.0842 - acc: 0.9645\n",
      "Epoch 32/100\n",
      "4166/4166 [==============================] - 0s 32us/step - loss: 0.1122 - acc: 0.9570\n",
      "Epoch 33/100\n",
      "4166/4166 [==============================] - 0s 32us/step - loss: 0.0929 - acc: 0.9618\n",
      "Epoch 34/100\n",
      "4166/4166 [==============================] - 0s 32us/step - loss: 0.0978 - acc: 0.9611\n",
      "Epoch 35/100\n",
      "4166/4166 [==============================] - 0s 31us/step - loss: 0.0733 - acc: 0.9698\n",
      "Epoch 36/100\n",
      "4166/4166 [==============================] - 0s 32us/step - loss: 0.0669 - acc: 0.9707\n",
      "Epoch 37/100\n",
      "4166/4166 [==============================] - 0s 34us/step - loss: 0.0671 - acc: 0.9750\n",
      "Epoch 38/100\n",
      "4166/4166 [==============================] - 0s 32us/step - loss: 0.0767 - acc: 0.9678\n",
      "Epoch 39/100\n",
      "4166/4166 [==============================] - 0s 32us/step - loss: 0.0701 - acc: 0.9726\n",
      "Epoch 40/100\n",
      "4166/4166 [==============================] - 0s 31us/step - loss: 0.1032 - acc: 0.9652\n",
      "Epoch 41/100\n",
      "4166/4166 [==============================] - 0s 33us/step - loss: 0.0685 - acc: 0.9750\n",
      "Epoch 42/100\n",
      "4166/4166 [==============================] - 0s 32us/step - loss: 0.0566 - acc: 0.9762\n",
      "Epoch 43/100\n",
      "4166/4166 [==============================] - 0s 32us/step - loss: 0.0546 - acc: 0.9789\n",
      "Epoch 44/100\n",
      "4166/4166 [==============================] - 0s 32us/step - loss: 0.0574 - acc: 0.9765\n",
      "Epoch 45/100\n",
      "4166/4166 [==============================] - 0s 32us/step - loss: 0.0514 - acc: 0.9801\n",
      "Epoch 46/100\n",
      "4166/4166 [==============================] - 0s 31us/step - loss: 0.0563 - acc: 0.9767\n",
      "Epoch 47/100\n",
      "4166/4166 [==============================] - 0s 32us/step - loss: 0.0703 - acc: 0.9736\n",
      "Epoch 48/100\n",
      "4166/4166 [==============================] - 0s 32us/step - loss: 0.0546 - acc: 0.9748\n",
      "Epoch 49/100\n",
      "4166/4166 [==============================] - 0s 32us/step - loss: 0.0631 - acc: 0.9777\n",
      "Epoch 50/100\n",
      "4166/4166 [==============================] - 0s 32us/step - loss: 0.0691 - acc: 0.9714\n",
      "Epoch 51/100\n",
      "4166/4166 [==============================] - 0s 32us/step - loss: 0.0558 - acc: 0.9779\n",
      "Epoch 52/100\n",
      "4166/4166 [==============================] - 0s 33us/step - loss: 0.0902 - acc: 0.9719\n",
      "Epoch 53/100\n",
      "4166/4166 [==============================] - 0s 31us/step - loss: 0.0830 - acc: 0.9671\n",
      "Epoch 54/100\n",
      "4166/4166 [==============================] - 0s 32us/step - loss: 0.0735 - acc: 0.9731\n",
      "Epoch 55/100\n",
      "4166/4166 [==============================] - 0s 32us/step - loss: 0.0600 - acc: 0.9777\n",
      "Epoch 56/100\n",
      "4166/4166 [==============================] - 0s 32us/step - loss: 0.0531 - acc: 0.9765\n",
      "Epoch 57/100\n",
      "4166/4166 [==============================] - 0s 32us/step - loss: 0.0429 - acc: 0.9825\n",
      "Epoch 58/100\n",
      "4166/4166 [==============================] - 0s 31us/step - loss: 0.0386 - acc: 0.9863\n",
      "Epoch 59/100\n",
      "4166/4166 [==============================] - 0s 32us/step - loss: 0.0382 - acc: 0.9866\n",
      "Epoch 60/100\n",
      "4166/4166 [==============================] - 0s 32us/step - loss: 0.0438 - acc: 0.9813\n",
      "Epoch 61/100\n",
      "4166/4166 [==============================] - 0s 32us/step - loss: 0.0474 - acc: 0.9827\n",
      "Epoch 62/100\n",
      "4166/4166 [==============================] - 0s 32us/step - loss: 0.0531 - acc: 0.9767\n",
      "Epoch 63/100\n",
      "4166/4166 [==============================] - 0s 32us/step - loss: 0.0541 - acc: 0.9777\n",
      "Epoch 64/100\n",
      "4166/4166 [==============================] - 0s 32us/step - loss: 0.0514 - acc: 0.9820\n",
      "Epoch 65/100\n",
      "4166/4166 [==============================] - 0s 34us/step - loss: 0.0714 - acc: 0.9796\n",
      "Epoch 66/100\n",
      "4166/4166 [==============================] - 0s 32us/step - loss: 0.0796 - acc: 0.9746\n",
      "Epoch 67/100\n",
      "4166/4166 [==============================] - 0s 33us/step - loss: 0.0840 - acc: 0.9671\n",
      "Epoch 68/100\n",
      "4166/4166 [==============================] - 0s 31us/step - loss: 0.0716 - acc: 0.9743\n",
      "Epoch 69/100\n",
      "4166/4166 [==============================] - 0s 32us/step - loss: 0.0769 - acc: 0.9731\n",
      "Epoch 70/100\n",
      "4166/4166 [==============================] - 0s 31us/step - loss: 0.0653 - acc: 0.9784\n",
      "Epoch 71/100\n",
      "4166/4166 [==============================] - 0s 32us/step - loss: 0.0553 - acc: 0.9806\n",
      "Epoch 72/100\n",
      "4166/4166 [==============================] - 0s 32us/step - loss: 0.0520 - acc: 0.9827\n",
      "Epoch 73/100\n",
      "4166/4166 [==============================] - 0s 31us/step - loss: 0.0537 - acc: 0.9842\n",
      "Epoch 74/100\n",
      "4166/4166 [==============================] - 0s 32us/step - loss: 0.0416 - acc: 0.9830\n",
      "Epoch 75/100\n",
      "4166/4166 [==============================] - 0s 32us/step - loss: 0.0439 - acc: 0.9834\n",
      "Epoch 76/100\n",
      "4166/4166 [==============================] - 0s 32us/step - loss: 0.0336 - acc: 0.9887\n",
      "Epoch 77/100\n",
      "4166/4166 [==============================] - 0s 32us/step - loss: 0.0404 - acc: 0.9837\n",
      "Epoch 78/100\n",
      "4166/4166 [==============================] - 0s 31us/step - loss: 0.0381 - acc: 0.9866\n",
      "Epoch 79/100\n",
      "4166/4166 [==============================] - 0s 31us/step - loss: 0.0344 - acc: 0.9846\n",
      "Epoch 80/100\n",
      "4166/4166 [==============================] - 0s 32us/step - loss: 0.0306 - acc: 0.9875\n",
      "Epoch 81/100\n",
      "4166/4166 [==============================] - 0s 31us/step - loss: 0.0410 - acc: 0.9846\n",
      "Epoch 82/100\n",
      "4166/4166 [==============================] - 0s 32us/step - loss: 0.0430 - acc: 0.9837\n",
      "Epoch 83/100\n",
      "4166/4166 [==============================] - 0s 31us/step - loss: 0.0572 - acc: 0.9789\n",
      "Epoch 84/100\n",
      "4166/4166 [==============================] - 0s 32us/step - loss: 0.0484 - acc: 0.9813\n",
      "Epoch 85/100\n",
      "4166/4166 [==============================] - 0s 32us/step - loss: 0.0384 - acc: 0.9854\n",
      "Epoch 86/100\n",
      "4166/4166 [==============================] - 0s 32us/step - loss: 0.0382 - acc: 0.9858\n",
      "Epoch 87/100\n",
      "4166/4166 [==============================] - 0s 31us/step - loss: 0.0340 - acc: 0.9878\n",
      "Epoch 88/100\n",
      "4166/4166 [==============================] - 0s 31us/step - loss: 0.0480 - acc: 0.9825\n",
      "Epoch 89/100\n",
      "4166/4166 [==============================] - 0s 31us/step - loss: 0.0402 - acc: 0.9858\n",
      "Epoch 90/100\n",
      "4166/4166 [==============================] - 0s 32us/step - loss: 0.0393 - acc: 0.9854\n",
      "Epoch 91/100\n",
      "4166/4166 [==============================] - 0s 32us/step - loss: 0.0339 - acc: 0.9875\n",
      "Epoch 92/100\n",
      "4166/4166 [==============================] - 0s 32us/step - loss: 0.0413 - acc: 0.9822\n",
      "Epoch 93/100\n",
      "4166/4166 [==============================] - 0s 32us/step - loss: 0.0336 - acc: 0.9854\n",
      "Epoch 94/100\n",
      "4166/4166 [==============================] - 0s 34us/step - loss: 0.0348 - acc: 0.9885\n",
      "Epoch 95/100\n",
      "4166/4166 [==============================] - 0s 32us/step - loss: 0.0358 - acc: 0.9858\n",
      "Epoch 96/100\n",
      "4166/4166 [==============================] - 0s 32us/step - loss: 0.0313 - acc: 0.9882\n",
      "Epoch 97/100\n",
      "4166/4166 [==============================] - 0s 32us/step - loss: 0.0326 - acc: 0.9880\n",
      "Epoch 98/100\n",
      "4166/4166 [==============================] - 0s 32us/step - loss: 0.0280 - acc: 0.9880\n",
      "Epoch 99/100\n",
      "4166/4166 [==============================] - 0s 32us/step - loss: 0.0307 - acc: 0.9892\n",
      "Epoch 100/100\n",
      "4166/4166 [==============================] - 0s 31us/step - loss: 0.0376 - acc: 0.9849\n"
     ]
    }
   ],
   "source": [
    "# Fitting the ANN to the training set\n",
    "with tf.device('/GPU:0'):\n",
    "    classifier.fit(X_train, y_train, batch_size=100, epochs=100)   "
   ]
  },
  {
   "cell_type": "code",
   "execution_count": 13,
   "metadata": {
    "collapsed": true
   },
   "outputs": [],
   "source": [
    "# Predicting the Test set results\n",
    "y_pred = classifier.predict(X_test)\n",
    "y_pred = (y_pred > 0.5)\n",
    "\n",
    "# Making the confusion Matrix\n",
    "from sklearn.metrics import confusion_matrix\n",
    "cm = confusion_matrix(y_test, y_pred)"
   ]
  },
  {
   "cell_type": "code",
   "execution_count": 14,
   "metadata": {},
   "outputs": [
    {
     "data": {
      "text/plain": [
       "array([[407, 109],\n",
       "       [157, 369]], dtype=int64)"
      ]
     },
     "execution_count": 14,
     "metadata": {},
     "output_type": "execute_result"
    }
   ],
   "source": [
    "cm"
   ]
  }
 ],
 "metadata": {
  "kernelspec": {
   "display_name": "Python 3",
   "language": "python",
   "name": "python3"
  },
  "language_info": {
   "codemirror_mode": {
    "name": "ipython",
    "version": 3
   },
   "file_extension": ".py",
   "mimetype": "text/x-python",
   "name": "python",
   "nbconvert_exporter": "python",
   "pygments_lexer": "ipython3",
   "version": "3.6.5"
  }
 },
 "nbformat": 4,
 "nbformat_minor": 2
}
