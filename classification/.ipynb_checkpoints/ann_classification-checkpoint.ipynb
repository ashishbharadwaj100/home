{
 "cells": [
  {
   "cell_type": "code",
   "execution_count": 1,
   "metadata": {
    "collapsed": true
   },
   "outputs": [],
   "source": [
    "# Importing the libraries\n",
    "import numpy as np\n",
    "import matplotlib.pyplot as plt\n",
    "import pandas as pd"
   ]
  },
  {
   "cell_type": "code",
   "execution_count": 2,
   "metadata": {
    "collapsed": true
   },
   "outputs": [],
   "source": [
    "# Importing the dataset\n",
    "dataset = pd.read_csv('../data/home_final.csv')\n",
    "X = dataset.iloc[:, [0, 1, 2, 3, 4, 5, 6, 7, 9, 10]].values\n",
    "y = dataset.iloc[:, 11].values"
   ]
  },
  {
   "cell_type": "code",
   "execution_count": 3,
   "metadata": {
    "collapsed": true
   },
   "outputs": [],
   "source": [
    "# ------ Part-1: Data preprocessing ----------\n",
    "\n",
    "# Encoding categorical data\n",
    "from sklearn.preprocessing import LabelEncoder, OneHotEncoder\n",
    "\n",
    "for i in range(8):\n",
    "    if i == 5:\n",
    "        continue\n",
    "        \n",
    "    labelencoder_X = LabelEncoder()\n",
    "    X[:, i] = labelencoder_X.fit_transform(X[:, i])"
   ]
  },
  {
   "cell_type": "code",
   "execution_count": 4,
   "metadata": {
    "collapsed": true
   },
   "outputs": [],
   "source": [
    "onehotencoder = OneHotEncoder(categorical_features=[0, 1, 2, 3, 4, 5, 6, 7, 8, 9])\n",
    "X = onehotencoder.fit_transform(X).toarray()"
   ]
  },
  {
   "cell_type": "code",
   "execution_count": 5,
   "metadata": {
    "collapsed": true
   },
   "outputs": [],
   "source": [
    "# Splitting the dataset into the Training set and Test set\n",
    "from sklearn.model_selection import train_test_split\n",
    "X_train, X_test, y_train, y_test = train_test_split(X, y, test_size=0.2, random_state=0)"
   ]
  },
  {
   "cell_type": "code",
   "execution_count": 6,
   "metadata": {
    "collapsed": true
   },
   "outputs": [],
   "source": [
    "# Feature Scaling\n",
    "from sklearn.preprocessing import StandardScaler\n",
    "sc_X = StandardScaler()\n",
    "X_train = sc_X.fit_transform(X_train)\n",
    "X_test = sc_X.transform(X_test)"
   ]
  },
  {
   "cell_type": "code",
   "execution_count": 7,
   "metadata": {},
   "outputs": [
    {
     "name": "stderr",
     "output_type": "stream",
     "text": [
      "E:\\Anaconda\\lib\\site-packages\\h5py\\__init__.py:34: FutureWarning: Conversion of the second argument of issubdtype from `float` to `np.floating` is deprecated. In future, it will be treated as `np.float64 == np.dtype(float).type`.\n",
      "  from ._conv import register_converters as _register_converters\n",
      "Using TensorFlow backend.\n"
     ]
    }
   ],
   "source": [
    "# ------- Part-2: Build the ANN --------\n",
    "\n",
    "# import keras library and packages\n",
    "import keras\n",
    "from keras.models import Sequential\n",
    "from keras.layers import Dense\n",
    "\n",
    "# Initializing the ANN\n",
    "classifier = Sequential()\n",
    "\n",
    "# Adding the input layer and the first hidden layer\n",
    "layer_info = Dense(1, activation='relu', kernel_initializer='uniform')\n",
    "classifier.add(layer_info)\n",
    "\n",
    "# Adding second hidden layer\n",
    "layer_info = Dense(1, activation='relu', kernel_initializer='uniform')\n",
    "classifier.add(layer_info)\n",
    "\n",
    "# Adding output layer\n",
    "layer_info = Dense(1, activation='sigmoid', kernel_initializer='uniform')\n",
    "classifier.add(layer_info)"
   ]
  },
  {
   "cell_type": "code",
   "execution_count": 8,
   "metadata": {},
   "outputs": [
    {
     "name": "stdout",
     "output_type": "stream",
     "text": [
      "Epoch 1/100\n",
      "4166/4166 [==============================] - 1s 236us/step - loss: 0.6931 - acc: 0.4930\n",
      "Epoch 2/100\n",
      "4166/4166 [==============================] - 0s 76us/step - loss: 0.6525 - acc: 0.6109\n",
      "Epoch 3/100\n",
      "4166/4166 [==============================] - 0s 76us/step - loss: 0.5514 - acc: 0.7254\n",
      "Epoch 4/100\n",
      "4166/4166 [==============================] - 0s 77us/step - loss: 0.4944 - acc: 0.7703\n",
      "Epoch 5/100\n",
      "4166/4166 [==============================] - 0s 75us/step - loss: 0.4672 - acc: 0.7787\n",
      "Epoch 6/100\n",
      "4166/4166 [==============================] - 0s 74us/step - loss: 0.4493 - acc: 0.7892\n",
      "Epoch 7/100\n",
      "4166/4166 [==============================] - 0s 76us/step - loss: 0.4364 - acc: 0.7969\n",
      "Epoch 8/100\n",
      "4166/4166 [==============================] - 0s 75us/step - loss: 0.4272 - acc: 0.8024\n",
      "Epoch 9/100\n",
      "4166/4166 [==============================] - 0s 74us/step - loss: 0.4198 - acc: 0.8041\n",
      "Epoch 10/100\n",
      "4166/4166 [==============================] - 0s 71us/step - loss: 0.4128 - acc: 0.8111\n",
      "Epoch 11/100\n",
      "4166/4166 [==============================] - 0s 71us/step - loss: 0.4062 - acc: 0.8152\n",
      "Epoch 12/100\n",
      "4166/4166 [==============================] - 0s 71us/step - loss: 0.4015 - acc: 0.8171\n",
      "Epoch 13/100\n",
      "4166/4166 [==============================] - 0s 72us/step - loss: 0.3924 - acc: 0.8241\n",
      "Epoch 14/100\n",
      "4166/4166 [==============================] - 0s 71us/step - loss: 0.3883 - acc: 0.8262\n",
      "Epoch 15/100\n",
      "4166/4166 [==============================] - 0s 70us/step - loss: 0.3822 - acc: 0.8313\n",
      "Epoch 16/100\n",
      "4166/4166 [==============================] - 0s 70us/step - loss: 0.3801 - acc: 0.8317\n",
      "Epoch 17/100\n",
      "4166/4166 [==============================] - 0s 71us/step - loss: 0.3746 - acc: 0.8344\n",
      "Epoch 18/100\n",
      "4166/4166 [==============================] - 0s 70us/step - loss: 0.3738 - acc: 0.8353\n",
      "Epoch 19/100\n",
      "4166/4166 [==============================] - 0s 70us/step - loss: 0.3701 - acc: 0.8380\n",
      "Epoch 20/100\n",
      "4166/4166 [==============================] - 0s 74us/step - loss: 0.3700 - acc: 0.8375\n",
      "Epoch 21/100\n",
      "4166/4166 [==============================] - 0s 71us/step - loss: 0.3666 - acc: 0.8399\n",
      "Epoch 22/100\n",
      "4166/4166 [==============================] - 0s 71us/step - loss: 0.3634 - acc: 0.8421\n",
      "Epoch 23/100\n",
      "4166/4166 [==============================] - 0s 70us/step - loss: 0.3624 - acc: 0.8428\n",
      "Epoch 24/100\n",
      "4166/4166 [==============================] - 0s 72us/step - loss: 0.3601 - acc: 0.8447\n",
      "Epoch 25/100\n",
      "4166/4166 [==============================] - 0s 71us/step - loss: 0.3602 - acc: 0.8440\n",
      "Epoch 26/100\n",
      "4166/4166 [==============================] - 0s 70us/step - loss: 0.3588 - acc: 0.8447\n",
      "Epoch 27/100\n",
      "4166/4166 [==============================] - 0s 72us/step - loss: 0.3569 - acc: 0.8464\n",
      "Epoch 28/100\n",
      "4166/4166 [==============================] - 0s 72us/step - loss: 0.3595 - acc: 0.8454\n",
      "Epoch 29/100\n",
      "4166/4166 [==============================] - 0s 72us/step - loss: 0.3582 - acc: 0.8454\n",
      "Epoch 30/100\n",
      "4166/4166 [==============================] - 0s 72us/step - loss: 0.3494 - acc: 0.8509\n",
      "Epoch 31/100\n",
      "4166/4166 [==============================] - 0s 71us/step - loss: 0.3469 - acc: 0.8536\n",
      "Epoch 32/100\n",
      "4166/4166 [==============================] - 0s 71us/step - loss: 0.3448 - acc: 0.8541\n",
      "Epoch 33/100\n",
      "4166/4166 [==============================] - 0s 72us/step - loss: 0.3427 - acc: 0.8557\n",
      "Epoch 34/100\n",
      "4166/4166 [==============================] - 0s 73us/step - loss: 0.3404 - acc: 0.8574\n",
      "Epoch 35/100\n",
      "4166/4166 [==============================] - 0s 72us/step - loss: 0.3399 - acc: 0.8579\n",
      "Epoch 36/100\n",
      "4166/4166 [==============================] - 0s 73us/step - loss: 0.3464 - acc: 0.8548\n",
      "Epoch 37/100\n",
      "4166/4166 [==============================] - 0s 71us/step - loss: 0.3401 - acc: 0.8579\n",
      "Epoch 38/100\n",
      "4166/4166 [==============================] - 0s 68us/step - loss: 0.3351 - acc: 0.8605\n",
      "Epoch 39/100\n",
      "4166/4166 [==============================] - 0s 69us/step - loss: 0.3318 - acc: 0.8627: 0s - loss: 0.3320 - acc: 0.862\n",
      "Epoch 40/100\n",
      "4166/4166 [==============================] - 0s 69us/step - loss: 0.3309 - acc: 0.8637\n",
      "Epoch 41/100\n",
      "4166/4166 [==============================] - 0s 67us/step - loss: 0.3309 - acc: 0.8632\n",
      "Epoch 42/100\n",
      "4166/4166 [==============================] - 0s 69us/step - loss: 0.3295 - acc: 0.8644\n",
      "Epoch 43/100\n",
      "4166/4166 [==============================] - 0s 67us/step - loss: 0.3291 - acc: 0.8646\n",
      "Epoch 44/100\n",
      "4166/4166 [==============================] - 0s 67us/step - loss: 0.3291 - acc: 0.8646\n",
      "Epoch 45/100\n",
      "4166/4166 [==============================] - 0s 69us/step - loss: 0.3297 - acc: 0.8641\n",
      "Epoch 46/100\n",
      "4166/4166 [==============================] - 0s 68us/step - loss: 0.3304 - acc: 0.8637\n",
      "Epoch 47/100\n",
      "4166/4166 [==============================] - 0s 68us/step - loss: 0.3416 - acc: 0.8579\n",
      "Epoch 48/100\n",
      "4166/4166 [==============================] - 0s 69us/step - loss: 0.3396 - acc: 0.8584\n",
      "Epoch 49/100\n",
      "4166/4166 [==============================] - 0s 68us/step - loss: 0.3404 - acc: 0.8584\n",
      "Epoch 50/100\n",
      "4166/4166 [==============================] - 0s 67us/step - loss: 0.3219 - acc: 0.8694\n",
      "Epoch 51/100\n",
      "4166/4166 [==============================] - 0s 68us/step - loss: 0.3216 - acc: 0.8694\n",
      "Epoch 52/100\n",
      "4166/4166 [==============================] - 0s 68us/step - loss: 0.3195 - acc: 0.8709\n",
      "Epoch 53/100\n",
      "4166/4166 [==============================] - 0s 68us/step - loss: 0.3174 - acc: 0.8721\n",
      "Epoch 54/100\n",
      "4166/4166 [==============================] - 0s 67us/step - loss: 0.3177 - acc: 0.8718\n",
      "Epoch 55/100\n",
      "4166/4166 [==============================] - 0s 69us/step - loss: 0.3177 - acc: 0.8721\n",
      "Epoch 56/100\n",
      "4166/4166 [==============================] - 0s 68us/step - loss: 0.3160 - acc: 0.8728\n",
      "Epoch 57/100\n",
      "4166/4166 [==============================] - 0s 67us/step - loss: 0.3151 - acc: 0.8735\n",
      "Epoch 58/100\n",
      "4166/4166 [==============================] - 0s 67us/step - loss: 0.3151 - acc: 0.8735\n",
      "Epoch 59/100\n",
      "4166/4166 [==============================] - 0s 68us/step - loss: 0.3153 - acc: 0.8735\n",
      "Epoch 60/100\n",
      "4166/4166 [==============================] - 0s 67us/step - loss: 0.3154 - acc: 0.8737\n",
      "Epoch 61/100\n",
      "4166/4166 [==============================] - 0s 67us/step - loss: 0.3119 - acc: 0.8757\n",
      "Epoch 62/100\n",
      "4166/4166 [==============================] - 0s 69us/step - loss: 0.3096 - acc: 0.8769\n",
      "Epoch 63/100\n",
      "4166/4166 [==============================] - 0s 64us/step - loss: 0.3111 - acc: 0.8761\n",
      "Epoch 64/100\n",
      "4166/4166 [==============================] - 0s 63us/step - loss: 0.3136 - acc: 0.8752\n",
      "Epoch 65/100\n",
      "4166/4166 [==============================] - 0s 63us/step - loss: 0.3113 - acc: 0.8761\n",
      "Epoch 66/100\n",
      "4166/4166 [==============================] - 0s 64us/step - loss: 0.3074 - acc: 0.8783\n",
      "Epoch 67/100\n",
      "4166/4166 [==============================] - 0s 64us/step - loss: 0.3070 - acc: 0.8785\n",
      "Epoch 68/100\n",
      "4166/4166 [==============================] - 0s 64us/step - loss: 0.3068 - acc: 0.8785\n",
      "Epoch 69/100\n",
      "4166/4166 [==============================] - 0s 64us/step - loss: 0.3074 - acc: 0.8781\n",
      "Epoch 70/100\n",
      "4166/4166 [==============================] - 0s 64us/step - loss: 0.3065 - acc: 0.8785\n",
      "Epoch 71/100\n",
      "4166/4166 [==============================] - 0s 65us/step - loss: 0.3058 - acc: 0.8793\n",
      "Epoch 72/100\n",
      "4166/4166 [==============================] - 0s 64us/step - loss: 0.3067 - acc: 0.8785\n",
      "Epoch 73/100\n",
      "4166/4166 [==============================] - 0s 63us/step - loss: 0.3065 - acc: 0.8785\n",
      "Epoch 74/100\n",
      "4166/4166 [==============================] - 0s 64us/step - loss: 0.3048 - acc: 0.8800\n",
      "Epoch 75/100\n",
      "4166/4166 [==============================] - 0s 64us/step - loss: 0.3040 - acc: 0.8800\n",
      "Epoch 76/100\n",
      "4166/4166 [==============================] - 0s 63us/step - loss: 0.3021 - acc: 0.8812\n",
      "Epoch 77/100\n",
      "4166/4166 [==============================] - 0s 65us/step - loss: 0.3010 - acc: 0.8821\n",
      "Epoch 78/100\n",
      "4166/4166 [==============================] - 0s 65us/step - loss: 0.3002 - acc: 0.8826\n",
      "Epoch 79/100\n",
      "4166/4166 [==============================] - 0s 64us/step - loss: 0.3002 - acc: 0.8826\n",
      "Epoch 80/100\n",
      "4166/4166 [==============================] - 0s 66us/step - loss: 0.3005 - acc: 0.8824\n",
      "Epoch 81/100\n",
      "4166/4166 [==============================] - 0s 67us/step - loss: 0.3008 - acc: 0.8821\n",
      "Epoch 82/100\n"
     ]
    },
    {
     "name": "stdout",
     "output_type": "stream",
     "text": [
      "4166/4166 [==============================] - 0s 65us/step - loss: 0.3024 - acc: 0.8814\n",
      "Epoch 83/100\n",
      "4166/4166 [==============================] - 0s 63us/step - loss: 0.3001 - acc: 0.8821\n",
      "Epoch 84/100\n",
      "4166/4166 [==============================] - 0s 63us/step - loss: 0.2986 - acc: 0.8836\n",
      "Epoch 85/100\n",
      "4166/4166 [==============================] - 0s 63us/step - loss: 0.2986 - acc: 0.8836\n",
      "Epoch 86/100\n",
      "4166/4166 [==============================] - 0s 63us/step - loss: 0.2988 - acc: 0.8838\n",
      "Epoch 87/100\n",
      "4166/4166 [==============================] - 0s 62us/step - loss: 0.2976 - acc: 0.8843\n",
      "Epoch 88/100\n",
      "4166/4166 [==============================] - 0s 63us/step - loss: 0.2976 - acc: 0.8841\n",
      "Epoch 89/100\n",
      "4166/4166 [==============================] - 0s 63us/step - loss: 0.2971 - acc: 0.8845\n",
      "Epoch 90/100\n",
      "4166/4166 [==============================] - 0s 62us/step - loss: 0.2976 - acc: 0.8841\n",
      "Epoch 91/100\n",
      "4166/4166 [==============================] - 0s 63us/step - loss: 0.2975 - acc: 0.8843\n",
      "Epoch 92/100\n",
      "4166/4166 [==============================] - 0s 65us/step - loss: 0.2958 - acc: 0.8853\n",
      "Epoch 93/100\n",
      "4166/4166 [==============================] - 0s 63us/step - loss: 0.2955 - acc: 0.8855\n",
      "Epoch 94/100\n",
      "4166/4166 [==============================] - 0s 63us/step - loss: 0.2954 - acc: 0.8855\n",
      "Epoch 95/100\n",
      "4166/4166 [==============================] - 0s 63us/step - loss: 0.2949 - acc: 0.8857: 0s - loss: 0.2942 - acc: 0.886\n",
      "Epoch 96/100\n",
      "4166/4166 [==============================] - 0s 63us/step - loss: 0.2949 - acc: 0.8857\n",
      "Epoch 97/100\n",
      "4166/4166 [==============================] - 0s 62us/step - loss: 0.2949 - acc: 0.8857\n",
      "Epoch 98/100\n",
      "4166/4166 [==============================] - 0s 63us/step - loss: 0.2960 - acc: 0.8853\n",
      "Epoch 99/100\n",
      "4166/4166 [==============================] - 0s 65us/step - loss: 0.2992 - acc: 0.8831\n",
      "Epoch 100/100\n",
      "4166/4166 [==============================] - 0s 63us/step - loss: 0.2999 - acc: 0.8829\n"
     ]
    },
    {
     "data": {
      "text/plain": [
       "<keras.callbacks.History at 0x22befbadf60>"
      ]
     },
     "execution_count": 8,
     "metadata": {},
     "output_type": "execute_result"
    }
   ],
   "source": [
    "# Compiling the ANN\n",
    "classifier.compile(optimizer='adam', loss='binary_crossentropy', metrics=['accuracy'])\n",
    "\n",
    "# Fitting the ANN to the training set\n",
    "classifier.fit(X_train, y_train, batch_size=10, epochs=100)"
   ]
  },
  {
   "cell_type": "code",
   "execution_count": 9,
   "metadata": {
    "collapsed": true
   },
   "outputs": [],
   "source": [
    "# Predicting the Test set results\n",
    "y_pred = classifier.predict(X_test)\n",
    "y_pred = (y_pred > 0.5)\n",
    "\n",
    "# Making the confusion Matrix\n",
    "from sklearn.metrics import confusion_matrix\n",
    "cm = confusion_matrix(y_test, y_pred)"
   ]
  },
  {
   "cell_type": "code",
   "execution_count": 10,
   "metadata": {},
   "outputs": [
    {
     "data": {
      "text/plain": [
       "array([[272, 244],\n",
       "       [ 75, 451]], dtype=int64)"
      ]
     },
     "execution_count": 10,
     "metadata": {},
     "output_type": "execute_result"
    }
   ],
   "source": [
    "cm"
   ]
  }
 ],
 "metadata": {
  "kernelspec": {
   "display_name": "Python 3",
   "language": "python",
   "name": "python3"
  },
  "language_info": {
   "codemirror_mode": {
    "name": "ipython",
    "version": 3
   },
   "file_extension": ".py",
   "mimetype": "text/x-python",
   "name": "python",
   "nbconvert_exporter": "python",
   "pygments_lexer": "ipython3",
   "version": "3.6.3"
  }
 },
 "nbformat": 4,
 "nbformat_minor": 2
}
