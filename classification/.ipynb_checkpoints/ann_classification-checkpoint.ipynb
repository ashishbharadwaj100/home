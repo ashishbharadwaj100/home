{
 "cells": [
  {
   "cell_type": "markdown",
   "metadata": {},
   "source": [
    "# Applying Machine Learning and Deep Learning to identify home appliances consuming excess power\n",
    "\n",
    "## Copyright (c) 2018, Faststream Technologies\n",
    "## Author: Sudhanva Narayana"
   ]
  },
  {
   "cell_type": "code",
   "execution_count": 1,
   "metadata": {
    "collapsed": true
   },
   "outputs": [],
   "source": [
    "# Importing the libraries\n",
    "import numpy as np\n",
    "import matplotlib.pyplot as plt\n",
    "import pandas as pd"
   ]
  },
  {
   "cell_type": "code",
   "execution_count": 2,
   "metadata": {
    "collapsed": true
   },
   "outputs": [],
   "source": [
    "# Importing the dataset\n",
    "dataset = pd.read_csv('../data/home_final.csv')\n",
    "X = dataset.iloc[:, [0, 3, 4, 5, 6, 7, 9, 10]].values\n",
    "y = dataset.iloc[:, 11].values"
   ]
  },
  {
   "cell_type": "markdown",
   "metadata": {},
   "source": [
    "### Data Preprocessing"
   ]
  },
  {
   "cell_type": "code",
   "execution_count": 3,
   "metadata": {
    "collapsed": true
   },
   "outputs": [],
   "source": [
    "# Encoding categorical data\n",
    "from sklearn.preprocessing import LabelEncoder, OneHotEncoder\n",
    "\n",
    "labelencoder_X_0 = LabelEncoder()\n",
    "X[:, 0] = labelencoder_X_0.fit_transform(X[:, 0])\n",
    "labelencoder_X_1 = LabelEncoder()\n",
    "X[:, 1] = labelencoder_X_1.fit_transform(X[:, 1])\n",
    "labelencoder_X_2 = LabelEncoder()\n",
    "X[:, 2] = labelencoder_X_2.fit_transform(X[:, 2])\n",
    "labelencoder_X_4 = LabelEncoder()\n",
    "X[:, 4] = labelencoder_X_4.fit_transform(X[:, 4])\n",
    "labelencoder_X_5 = LabelEncoder()\n",
    "X[:, 5] = labelencoder_X_5.fit_transform(X[:, 5])"
   ]
  },
  {
   "cell_type": "code",
   "execution_count": 4,
   "metadata": {
    "collapsed": true
   },
   "outputs": [],
   "source": [
    "onehotencoder = OneHotEncoder(categorical_features=[0, 1, 2, 4, 5])\n",
    "hot_X = onehotencoder.fit_transform(X).toarray()"
   ]
  },
  {
   "cell_type": "code",
   "execution_count": 5,
   "metadata": {},
   "outputs": [],
   "source": [
    "columns = dataset.columns\n",
    "dummies = []\n",
    "dummies_sum = 0\n",
    "categories = [0, 1, 2, 4, 5]\n",
    "\n",
    "for category in categories:\n",
    "    dummies_sum += category * (dataset.iloc[:, category].unique().size)\n",
    "    dummies.append(dummies_sum)"
   ]
  },
  {
   "cell_type": "code",
   "execution_count": 6,
   "metadata": {},
   "outputs": [
    {
     "name": "stderr",
     "output_type": "stream",
     "text": [
      "C:\\Users\\Sudhanva\\Anaconda3\\envs\\tf\\lib\\site-packages\\ipykernel_launcher.py:2: DeprecationWarning: in the future out of bounds indices will raise an error instead of being ignored by `numpy.delete`.\n",
      "  \n"
     ]
    }
   ],
   "source": [
    "# Removing dummy variables\n",
    "hot_X = np.delete(hot_X, dummies, 1)"
   ]
  },
  {
   "cell_type": "code",
   "execution_count": 7,
   "metadata": {
    "collapsed": true
   },
   "outputs": [],
   "source": [
    "# Splitting the dataset into the Training set and Test set\n",
    "from sklearn.model_selection import train_test_split\n",
    "X_train, X_test, y_train, y_test = train_test_split(hot_X, y, test_size=0.2, random_state=0)"
   ]
  },
  {
   "cell_type": "code",
   "execution_count": 8,
   "metadata": {
    "collapsed": true
   },
   "outputs": [],
   "source": [
    "# Feature Scaling\n",
    "from sklearn.preprocessing import StandardScaler\n",
    "sc_X = StandardScaler()\n",
    "X_train = sc_X.fit_transform(X_train)\n",
    "X_test = sc_X.transform(X_test)"
   ]
  },
  {
   "cell_type": "markdown",
   "metadata": {},
   "source": [
    "### Building the Artificial Neural Network"
   ]
  },
  {
   "cell_type": "code",
   "execution_count": 9,
   "metadata": {},
   "outputs": [
    {
     "name": "stderr",
     "output_type": "stream",
     "text": [
      "Using TensorFlow backend.\n"
     ]
    }
   ],
   "source": [
    "# import keras library and packages\n",
    "import keras\n",
    "import tensorflow as tf\n",
    "from keras.models import Sequential\n",
    "from keras.layers import Dense\n",
    "\n",
    "# Initializing the ANN\n",
    "classifier = Sequential()"
   ]
  },
  {
   "cell_type": "code",
   "execution_count": 10,
   "metadata": {},
   "outputs": [],
   "source": [
    "# Adding the input layer and the first hidden layer\n",
    "layer_info = Dense(activation='relu', input_dim=134, units=65, kernel_initializer='uniform')\n",
    "classifier.add(layer_info)\n",
    "\n",
    "# Adding second hidden layer\n",
    "layer_info = Dense(activation='relu', units=65, kernel_initializer='uniform')\n",
    "classifier.add(layer_info)\n",
    "\n",
    "# Adding third hidden layer\n",
    "layer_info = Dense(activation='relu', units=65, kernel_initializer='uniform')\n",
    "classifier.add(layer_info)\n",
    "\n",
    "# Adding output layer\n",
    "layer_info = Dense(activation='sigmoid', units=1, kernel_initializer='uniform')\n",
    "classifier.add(layer_info)"
   ]
  },
  {
   "cell_type": "code",
   "execution_count": 11,
   "metadata": {},
   "outputs": [],
   "source": [
    "# Compiling the ANN\n",
    "classifier.compile(optimizer='adam', loss='binary_crossentropy', metrics=['accuracy'])"
   ]
  },
  {
   "cell_type": "code",
   "execution_count": 12,
   "metadata": {},
   "outputs": [
    {
     "name": "stdout",
     "output_type": "stream",
     "text": [
      "Epoch 1/100\n",
      "4166/4166 [==============================] - 4s 846us/step - loss: 0.6932 - acc: 0.4983\n",
      "Epoch 2/100\n",
      "4166/4166 [==============================] - 0s 34us/step - loss: 0.6863 - acc: 0.5744\n",
      "Epoch 3/100\n",
      "4166/4166 [==============================] - 0s 35us/step - loss: 0.6368 - acc: 0.6351\n",
      "Epoch 4/100\n",
      "4166/4166 [==============================] - 0s 34us/step - loss: 0.5596 - acc: 0.7091\n",
      "Epoch 5/100\n",
      "4166/4166 [==============================] - 0s 35us/step - loss: 0.4683 - acc: 0.7691\n",
      "Epoch 6/100\n",
      "4166/4166 [==============================] - 0s 35us/step - loss: 0.3865 - acc: 0.8104\n",
      "Epoch 7/100\n",
      "4166/4166 [==============================] - 0s 35us/step - loss: 0.3220 - acc: 0.8526\n",
      "Epoch 8/100\n",
      "4166/4166 [==============================] - 0s 35us/step - loss: 0.2631 - acc: 0.8805\n",
      "Epoch 9/100\n",
      "4166/4166 [==============================] - 0s 36us/step - loss: 0.2329 - acc: 0.8970\n",
      "Epoch 10/100\n",
      "4166/4166 [==============================] - 0s 34us/step - loss: 0.2088 - acc: 0.9090\n",
      "Epoch 11/100\n",
      "4166/4166 [==============================] - 0s 34us/step - loss: 0.1771 - acc: 0.9234\n",
      "Epoch 12/100\n",
      "4166/4166 [==============================] - 0s 34us/step - loss: 0.1676 - acc: 0.9306\n",
      "Epoch 13/100\n",
      "4166/4166 [==============================] - 0s 34us/step - loss: 0.1583 - acc: 0.9306\n",
      "Epoch 14/100\n",
      "4166/4166 [==============================] - 0s 35us/step - loss: 0.1592 - acc: 0.9285\n",
      "Epoch 15/100\n",
      "4166/4166 [==============================] - 0s 35us/step - loss: 0.1396 - acc: 0.9378\n",
      "Epoch 16/100\n",
      "4166/4166 [==============================] - 0s 35us/step - loss: 0.1212 - acc: 0.9453\n",
      "Epoch 17/100\n",
      "4166/4166 [==============================] - 0s 35us/step - loss: 0.1352 - acc: 0.9369\n",
      "Epoch 18/100\n",
      "4166/4166 [==============================] - 0s 36us/step - loss: 0.1318 - acc: 0.9417\n",
      "Epoch 19/100\n",
      "4166/4166 [==============================] - 0s 38us/step - loss: 0.1249 - acc: 0.9424\n",
      "Epoch 20/100\n",
      "4166/4166 [==============================] - 0s 34us/step - loss: 0.1057 - acc: 0.9554\n",
      "Epoch 21/100\n",
      "4166/4166 [==============================] - 0s 33us/step - loss: 0.1053 - acc: 0.9527\n",
      "Epoch 22/100\n",
      "4166/4166 [==============================] - 0s 33us/step - loss: 0.1100 - acc: 0.9503\n",
      "Epoch 23/100\n",
      "4166/4166 [==============================] - 0s 34us/step - loss: 0.1038 - acc: 0.9534\n",
      "Epoch 24/100\n",
      "4166/4166 [==============================] - 0s 34us/step - loss: 0.1046 - acc: 0.9537\n",
      "Epoch 25/100\n",
      "4166/4166 [==============================] - 0s 38us/step - loss: 0.1110 - acc: 0.9515\n",
      "Epoch 26/100\n",
      "4166/4166 [==============================] - 0s 35us/step - loss: 0.0876 - acc: 0.9623\n",
      "Epoch 27/100\n",
      "4166/4166 [==============================] - 0s 33us/step - loss: 0.0869 - acc: 0.9626\n",
      "Epoch 28/100\n",
      "4166/4166 [==============================] - 0s 34us/step - loss: 0.0791 - acc: 0.9686\n",
      "Epoch 29/100\n",
      "4166/4166 [==============================] - 0s 34us/step - loss: 0.0781 - acc: 0.9674\n",
      "Epoch 30/100\n",
      "4166/4166 [==============================] - 0s 35us/step - loss: 0.0705 - acc: 0.9693\n",
      "Epoch 31/100\n",
      "4166/4166 [==============================] - 0s 34us/step - loss: 0.0885 - acc: 0.9638\n",
      "Epoch 32/100\n",
      "4166/4166 [==============================] - 0s 34us/step - loss: 0.0872 - acc: 0.9647\n",
      "Epoch 33/100\n",
      "4166/4166 [==============================] - 0s 34us/step - loss: 0.1034 - acc: 0.9578\n",
      "Epoch 34/100\n",
      "4166/4166 [==============================] - 0s 33us/step - loss: 0.1198 - acc: 0.9570\n",
      "Epoch 35/100\n",
      "4166/4166 [==============================] - 0s 36us/step - loss: 0.0965 - acc: 0.9638\n",
      "Epoch 36/100\n",
      "4166/4166 [==============================] - 0s 38us/step - loss: 0.0886 - acc: 0.9633\n",
      "Epoch 37/100\n",
      "4166/4166 [==============================] - 0s 33us/step - loss: 0.0735 - acc: 0.9717\n",
      "Epoch 38/100\n",
      "4166/4166 [==============================] - 0s 33us/step - loss: 0.0750 - acc: 0.9724\n",
      "Epoch 39/100\n",
      "4166/4166 [==============================] - 0s 32us/step - loss: 0.0656 - acc: 0.9760\n",
      "Epoch 40/100\n",
      "4166/4166 [==============================] - 0s 32us/step - loss: 0.0748 - acc: 0.9686\n",
      "Epoch 41/100\n",
      "4166/4166 [==============================] - 0s 33us/step - loss: 0.0674 - acc: 0.9748\n",
      "Epoch 42/100\n",
      "4166/4166 [==============================] - 0s 34us/step - loss: 0.0561 - acc: 0.9774\n",
      "Epoch 43/100\n",
      "4166/4166 [==============================] - 0s 33us/step - loss: 0.0567 - acc: 0.9755\n",
      "Epoch 44/100\n",
      "4166/4166 [==============================] - 0s 33us/step - loss: 0.0610 - acc: 0.9755\n",
      "Epoch 45/100\n",
      "4166/4166 [==============================] - 0s 34us/step - loss: 0.0691 - acc: 0.9714\n",
      "Epoch 46/100\n",
      "4166/4166 [==============================] - 0s 33us/step - loss: 0.0545 - acc: 0.9770\n",
      "Epoch 47/100\n",
      "4166/4166 [==============================] - 0s 33us/step - loss: 0.0517 - acc: 0.9801\n",
      "Epoch 48/100\n",
      "4166/4166 [==============================] - 0s 35us/step - loss: 0.0615 - acc: 0.9765\n",
      "Epoch 49/100\n",
      "4166/4166 [==============================] - 0s 34us/step - loss: 0.0627 - acc: 0.9736\n",
      "Epoch 50/100\n",
      "4166/4166 [==============================] - 0s 34us/step - loss: 0.0510 - acc: 0.9808\n",
      "Epoch 51/100\n",
      "4166/4166 [==============================] - 0s 36us/step - loss: 0.0455 - acc: 0.9808\n",
      "Epoch 52/100\n",
      "4166/4166 [==============================] - 0s 37us/step - loss: 0.0582 - acc: 0.9762\n",
      "Epoch 53/100\n",
      "4166/4166 [==============================] - 0s 34us/step - loss: 0.0518 - acc: 0.9786\n",
      "Epoch 54/100\n",
      "4166/4166 [==============================] - 0s 33us/step - loss: 0.0552 - acc: 0.9755\n",
      "Epoch 55/100\n",
      "4166/4166 [==============================] - 0s 34us/step - loss: 0.0624 - acc: 0.9755\n",
      "Epoch 56/100\n",
      "4166/4166 [==============================] - 0s 35us/step - loss: 0.0644 - acc: 0.9734\n",
      "Epoch 57/100\n",
      "4166/4166 [==============================] - 0s 33us/step - loss: 0.0571 - acc: 0.9791\n",
      "Epoch 58/100\n",
      "4166/4166 [==============================] - 0s 33us/step - loss: 0.0694 - acc: 0.9736\n",
      "Epoch 59/100\n",
      "4166/4166 [==============================] - 0s 34us/step - loss: 0.1148 - acc: 0.9642\n",
      "Epoch 60/100\n",
      "4166/4166 [==============================] - 0s 34us/step - loss: 0.0624 - acc: 0.9772\n",
      "Epoch 61/100\n",
      "4166/4166 [==============================] - 0s 40us/step - loss: 0.0487 - acc: 0.9815\n",
      "Epoch 62/100\n",
      "4166/4166 [==============================] - 0s 36us/step - loss: 0.0912 - acc: 0.9731\n",
      "Epoch 63/100\n",
      "4166/4166 [==============================] - 0s 33us/step - loss: 0.0695 - acc: 0.9731\n",
      "Epoch 64/100\n",
      "4166/4166 [==============================] - 0s 33us/step - loss: 0.0484 - acc: 0.9832\n",
      "Epoch 65/100\n",
      "4166/4166 [==============================] - 0s 33us/step - loss: 0.0422 - acc: 0.9854\n",
      "Epoch 66/100\n",
      "4166/4166 [==============================] - 0s 34us/step - loss: 0.0415 - acc: 0.9866\n",
      "Epoch 67/100\n",
      "4166/4166 [==============================] - 0s 33us/step - loss: 0.0354 - acc: 0.9882\n",
      "Epoch 68/100\n",
      "4166/4166 [==============================] - 0s 34us/step - loss: 0.0321 - acc: 0.9882\n",
      "Epoch 69/100\n",
      "4166/4166 [==============================] - 0s 33us/step - loss: 0.0351 - acc: 0.9880\n",
      "Epoch 70/100\n",
      "4166/4166 [==============================] - 0s 35us/step - loss: 0.0357 - acc: 0.9856\n",
      "Epoch 71/100\n",
      "4166/4166 [==============================] - 0s 36us/step - loss: 0.0416 - acc: 0.9825\n",
      "Epoch 72/100\n",
      "4166/4166 [==============================] - 0s 36us/step - loss: 0.0422 - acc: 0.9839\n",
      "Epoch 73/100\n",
      "4166/4166 [==============================] - 0s 33us/step - loss: 0.0367 - acc: 0.9873\n",
      "Epoch 74/100\n",
      "4166/4166 [==============================] - 0s 32us/step - loss: 0.0449 - acc: 0.9825\n",
      "Epoch 75/100\n",
      "4166/4166 [==============================] - 0s 33us/step - loss: 0.0433 - acc: 0.9818\n",
      "Epoch 76/100\n",
      "4166/4166 [==============================] - 0s 34us/step - loss: 0.0693 - acc: 0.9714\n",
      "Epoch 77/100\n",
      "4166/4166 [==============================] - 0s 34us/step - loss: 0.0797 - acc: 0.9695\n",
      "Epoch 78/100\n",
      "4166/4166 [==============================] - 0s 34us/step - loss: 0.0746 - acc: 0.9760\n",
      "Epoch 79/100\n",
      "4166/4166 [==============================] - 0s 34us/step - loss: 0.0568 - acc: 0.9798\n",
      "Epoch 80/100\n",
      "4166/4166 [==============================] - 0s 33us/step - loss: 0.0447 - acc: 0.9844\n",
      "Epoch 81/100\n",
      "4166/4166 [==============================] - 0s 33us/step - loss: 0.0423 - acc: 0.9837\n",
      "Epoch 82/100\n",
      "4166/4166 [==============================] - 0s 33us/step - loss: 0.0529 - acc: 0.9846\n",
      "Epoch 83/100\n",
      "4166/4166 [==============================] - 0s 33us/step - loss: 0.0423 - acc: 0.9825\n",
      "Epoch 84/100\n",
      "4166/4166 [==============================] - 0s 33us/step - loss: 0.0397 - acc: 0.9842\n",
      "Epoch 85/100\n",
      "4166/4166 [==============================] - 0s 36us/step - loss: 0.0439 - acc: 0.9846\n",
      "Epoch 86/100\n",
      "4166/4166 [==============================] - 0s 35us/step - loss: 0.0510 - acc: 0.9815\n",
      "Epoch 87/100\n",
      "4166/4166 [==============================] - 0s 32us/step - loss: 0.0516 - acc: 0.9820\n",
      "Epoch 88/100\n",
      "4166/4166 [==============================] - 0s 31us/step - loss: 0.0503 - acc: 0.9837\n",
      "Epoch 89/100\n",
      "4166/4166 [==============================] - 0s 31us/step - loss: 0.0389 - acc: 0.9858\n",
      "Epoch 90/100\n",
      "4166/4166 [==============================] - 0s 31us/step - loss: 0.0306 - acc: 0.9882\n",
      "Epoch 91/100\n",
      "4166/4166 [==============================] - 0s 31us/step - loss: 0.0290 - acc: 0.9890\n",
      "Epoch 92/100\n",
      "4166/4166 [==============================] - 0s 31us/step - loss: 0.0309 - acc: 0.9880\n",
      "Epoch 93/100\n",
      "4166/4166 [==============================] - 0s 31us/step - loss: 0.0367 - acc: 0.9856\n",
      "Epoch 94/100\n",
      "4166/4166 [==============================] - 0s 34us/step - loss: 0.0256 - acc: 0.9904\n",
      "Epoch 95/100\n",
      "4166/4166 [==============================] - 0s 32us/step - loss: 0.0197 - acc: 0.9930\n",
      "Epoch 96/100\n",
      "4166/4166 [==============================] - 0s 30us/step - loss: 0.0211 - acc: 0.9904\n",
      "Epoch 97/100\n",
      "4166/4166 [==============================] - 0s 31us/step - loss: 0.0326 - acc: 0.9861\n",
      "Epoch 98/100\n",
      "4166/4166 [==============================] - 0s 30us/step - loss: 0.0356 - acc: 0.9870\n",
      "Epoch 99/100\n",
      "4166/4166 [==============================] - 0s 33us/step - loss: 0.0300 - acc: 0.9882\n",
      "Epoch 100/100\n",
      "4166/4166 [==============================] - 0s 30us/step - loss: 0.0319 - acc: 0.9873\n"
     ]
    }
   ],
   "source": [
    "# Fitting the ANN to the training set\n",
    "with tf.device('/GPU:0'):\n",
    "    classifier.fit(X_train, y_train, batch_size=100, epochs=100)   "
   ]
  },
  {
   "cell_type": "code",
   "execution_count": 13,
   "metadata": {
    "collapsed": true
   },
   "outputs": [],
   "source": [
    "# Predicting the Test set results\n",
    "y_pred = classifier.predict(X_test)\n",
    "y_pred = (y_pred > 0.5)\n",
    "\n",
    "# Making the confusion Matrix\n",
    "from sklearn.metrics import confusion_matrix\n",
    "cm = confusion_matrix(y_test, y_pred)"
   ]
  },
  {
   "cell_type": "code",
   "execution_count": 14,
   "metadata": {},
   "outputs": [
    {
     "data": {
      "text/plain": [
       "array([[381, 135],\n",
       "       [122, 404]], dtype=int64)"
      ]
     },
     "execution_count": 14,
     "metadata": {},
     "output_type": "execute_result"
    }
   ],
   "source": [
    "cm"
   ]
  }
 ],
 "metadata": {
  "kernelspec": {
   "display_name": "Python 3",
   "language": "python",
   "name": "python3"
  },
  "language_info": {
   "codemirror_mode": {
    "name": "ipython",
    "version": 3
   },
   "file_extension": ".py",
   "mimetype": "text/x-python",
   "name": "python",
   "nbconvert_exporter": "python",
   "pygments_lexer": "ipython3",
   "version": "3.6.5"
  }
 },
 "nbformat": 4,
 "nbformat_minor": 2
}
