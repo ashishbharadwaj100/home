{
 "cells": [
  {
   "cell_type": "markdown",
   "metadata": {},
   "source": [
    "# Applying Machine Learning and Deep Learning to identify home appliances consuming excess power\n",
    "# Results\n",
    "## Copyright (c) 2018, Faststream Technologies\n",
    "## Author: Sudhanva Narayana"
   ]
  },
  {
   "cell_type": "code",
   "execution_count": 1,
   "metadata": {
    "collapsed": true
   },
   "outputs": [
    {
     "name": "stderr",
     "output_type": "stream",
     "text": [
      "Using TensorFlow backend.\n",
      "C:\\Users\\Sudhanva\\Anaconda3\\envs\\tf\\lib\\site-packages\\ipykernel_launcher.py:52: DeprecationWarning: in the future out of bounds indices will raise an error instead of being ignored by `numpy.delete`.\n"
     ]
    }
   ],
   "source": [
    "import numpy as np\n",
    "import pandas as pd\n",
    "import matplotlib.pyplot as plt\n",
    "import os\n",
    "import keras\n",
    "import tensorflow as tf\n",
    "from keras.models import Sequential\n",
    "from keras.layers import Dense\n",
    "\n",
    "from sklearn.neighbors import KNeighborsClassifier\n",
    "from sklearn.tree import DecisionTreeClassifier\n",
    "from sklearn.svm import SVC\n",
    "from sklearn.linear_model import LogisticRegression\n",
    "from sklearn.ensemble import RandomForestClassifier\n",
    "\n",
    "from sklearn.preprocessing import LabelEncoder, OneHotEncoder\n",
    "from sklearn.model_selection import train_test_split\n",
    "from sklearn.preprocessing import StandardScaler\n",
    "from sklearn.metrics import confusion_matrix\n",
    "from sklearn.metrics import classification_report\n",
    "\n",
    "df = pd.read_csv('../data/home_final.csv')\n",
    "\n",
    "X = df.iloc[:, [0, 3, 4, 5, 6, 7, 9, 10]].values\n",
    "y = df.iloc[:, 11].values\n",
    "\n",
    "# Encoding categorical data\n",
    "labelencoder_X_0 = LabelEncoder()\n",
    "X[:, 0] = labelencoder_X_0.fit_transform(X[:, 0])\n",
    "labelencoder_X_1 = LabelEncoder()\n",
    "X[:, 1] = labelencoder_X_1.fit_transform(X[:, 1])\n",
    "labelencoder_X_2 = LabelEncoder()\n",
    "X[:, 2] = labelencoder_X_2.fit_transform(X[:, 2])\n",
    "labelencoder_X_4 = LabelEncoder()\n",
    "X[:, 4] = labelencoder_X_4.fit_transform(X[:, 4])\n",
    "labelencoder_X_5 = LabelEncoder()\n",
    "X[:, 5] = labelencoder_X_5.fit_transform(X[:, 5])\n",
    "\n",
    "onehotencoder = OneHotEncoder(categorical_features=[0, 1, 2, 4, 5])\n",
    "hot_X = onehotencoder.fit_transform(X).toarray()\n",
    "\n",
    "columns = df.columns\n",
    "dummies = []\n",
    "dummies_sum = 0\n",
    "categories = [0, 1, 2, 4, 5]\n",
    "\n",
    "for category in categories:\n",
    "    dummies_sum += category * (df.iloc[:, category].unique().size)\n",
    "    dummies.append(dummies_sum)\n",
    "    \n",
    "# Removing dummy variables\n",
    "hot_X = np.delete(hot_X, dummies, 1)\n",
    "\n",
    "X_train, X_test, y_train, y_test = train_test_split(hot_X, y, test_size=0.25, random_state=0)\n",
    "\n",
    "sc_X = StandardScaler()\n",
    "X_train = sc_X.fit_transform(X_train)\n",
    "X_test = sc_X.transform(X_test)"
   ]
  },
  {
   "cell_type": "markdown",
   "metadata": {},
   "source": [
    "### Classifiers"
   ]
  },
  {
   "cell_type": "code",
   "execution_count": 2,
   "metadata": {
    "collapsed": true
   },
   "outputs": [],
   "source": [
    "classifiers = {}"
   ]
  },
  {
   "cell_type": "markdown",
   "metadata": {},
   "source": [
    "### KNN "
   ]
  },
  {
   "cell_type": "code",
   "execution_count": 3,
   "metadata": {},
   "outputs": [
    {
     "name": "stdout",
     "output_type": "stream",
     "text": [
      "0.5591397849462365\n"
     ]
    }
   ],
   "source": [
    "classifier = KNeighborsClassifier(n_neighbors=5, metric='minkowski', p=2)\n",
    "classifier.fit(X_train, y_train)\n",
    "\n",
    "y_pred = classifier.predict(X_test)\n",
    "\n",
    "classifiers['knn'] = classifier.score(X_test, y_test)\n",
    "print(classifier.score(X_test, y_test))"
   ]
  },
  {
   "cell_type": "markdown",
   "metadata": {},
   "source": [
    "### Decision Tree "
   ]
  },
  {
   "cell_type": "code",
   "execution_count": 4,
   "metadata": {},
   "outputs": [
    {
     "name": "stdout",
     "output_type": "stream",
     "text": [
      "0.934715821812596\n"
     ]
    }
   ],
   "source": [
    "classifier = DecisionTreeClassifier(criterion='entropy', random_state=0)\n",
    "classifier.fit(X_train, y_train)\n",
    "\n",
    "y_pred = classifier.predict(X_test)\n",
    "\n",
    "classifiers['desicion_tree'] = classifier.score(X_test, y_test)\n",
    "print(classifier.score(X_test, y_test))"
   ]
  },
  {
   "cell_type": "markdown",
   "metadata": {},
   "source": [
    "### Kernal SVM "
   ]
  },
  {
   "cell_type": "code",
   "execution_count": 5,
   "metadata": {},
   "outputs": [
    {
     "name": "stdout",
     "output_type": "stream",
     "text": [
      "0.620583717357911\n"
     ]
    }
   ],
   "source": [
    "classifier = SVC(kernel='rbf', random_state=0)\n",
    "classifier.fit(X_train, y_train)\n",
    "\n",
    "y_pred = classifier.predict(X_test)\n",
    "\n",
    "classifiers['kernal_svm'] = classifier.score(X_test, y_test)\n",
    "print(classifier.score(X_test, y_test))"
   ]
  },
  {
   "cell_type": "markdown",
   "metadata": {},
   "source": [
    "### Logistic Regression "
   ]
  },
  {
   "cell_type": "code",
   "execution_count": 6,
   "metadata": {},
   "outputs": [
    {
     "name": "stdout",
     "output_type": "stream",
     "text": [
      "0.6666666666666666\n"
     ]
    }
   ],
   "source": [
    "classifier = LogisticRegression(random_state=0)\n",
    "classifier.fit(X_train, y_train)\n",
    "\n",
    "y_pred = classifier.predict(X_test)\n",
    "\n",
    "classifiers['logistic_regression'] = classifier.score(X_test, y_test)\n",
    "print(classifier.score(X_test, y_test))"
   ]
  },
  {
   "cell_type": "markdown",
   "metadata": {},
   "source": [
    "### Random Forest "
   ]
  },
  {
   "cell_type": "code",
   "execution_count": 7,
   "metadata": {},
   "outputs": [
    {
     "name": "stdout",
     "output_type": "stream",
     "text": [
      "0.9116743471582182\n"
     ]
    }
   ],
   "source": [
    "classifier = RandomForestClassifier(n_estimators=10, criterion='entropy', random_state=0)\n",
    "classifier.fit(X_train, y_train)\n",
    "\n",
    "y_pred = classifier.predict(X_test)\n",
    "\n",
    "classifiers['random_forest'] = classifier.score(X_test, y_test)\n",
    "print(classifier.score(X_test, y_test))"
   ]
  },
  {
   "cell_type": "markdown",
   "metadata": {},
   "source": [
    "### Support Vector Machines "
   ]
  },
  {
   "cell_type": "code",
   "execution_count": 8,
   "metadata": {},
   "outputs": [
    {
     "name": "stdout",
     "output_type": "stream",
     "text": [
      "0.6490015360983102\n"
     ]
    }
   ],
   "source": [
    "classifier = SVC(kernel='linear', random_state=0)\n",
    "classifier.fit(X_train, y_train)\n",
    "\n",
    "y_pred = classifier.predict(X_test)\n",
    "\n",
    "classifiers['svm'] = classifier.score(X_test, y_test)\n",
    "print(classifier.score(X_test, y_test))"
   ]
  },
  {
   "cell_type": "markdown",
   "metadata": {},
   "source": [
    "### Artificial Neural Networks"
   ]
  },
  {
   "cell_type": "code",
   "execution_count": 9,
   "metadata": {},
   "outputs": [
    {
     "name": "stdout",
     "output_type": "stream",
     "text": [
      "Epoch 1/100\n",
      "3906/3906 [==============================] - 2s 605us/step - loss: 0.6933 - acc: 0.5051\n",
      "Epoch 2/100\n",
      "3906/3906 [==============================] - 0s 35us/step - loss: 0.6887 - acc: 0.5812\n",
      "Epoch 3/100\n",
      "3906/3906 [==============================] - 0s 34us/step - loss: 0.6637 - acc: 0.6211\n",
      "Epoch 4/100\n",
      "3906/3906 [==============================] - 0s 35us/step - loss: 0.6142 - acc: 0.6649\n",
      "Epoch 5/100\n",
      "3906/3906 [==============================] - 0s 33us/step - loss: 0.5465 - acc: 0.7232\n",
      "Epoch 6/100\n",
      "3906/3906 [==============================] - 0s 32us/step - loss: 0.4776 - acc: 0.7711\n",
      "Epoch 7/100\n",
      "3906/3906 [==============================] - 0s 29us/step - loss: 0.3991 - acc: 0.8198\n",
      "Epoch 8/100\n",
      "3906/3906 [==============================] - 0s 28us/step - loss: 0.3261 - acc: 0.8612\n",
      "Epoch 9/100\n",
      "3906/3906 [==============================] - 0s 29us/step - loss: 0.2923 - acc: 0.8722\n",
      "Epoch 10/100\n",
      "3906/3906 [==============================] - 0s 29us/step - loss: 0.2527 - acc: 0.8927\n",
      "Epoch 11/100\n",
      "3906/3906 [==============================] - 0s 28us/step - loss: 0.2165 - acc: 0.9104\n",
      "Epoch 12/100\n",
      "3906/3906 [==============================] - 0s 28us/step - loss: 0.1966 - acc: 0.9155\n",
      "Epoch 13/100\n",
      "3906/3906 [==============================] - 0s 28us/step - loss: 0.1720 - acc: 0.9268\n",
      "Epoch 14/100\n",
      "3906/3906 [==============================] - 0s 31us/step - loss: 0.1609 - acc: 0.9332\n",
      "Epoch 15/100\n",
      "3906/3906 [==============================] - 0s 30us/step - loss: 0.1622 - acc: 0.9293\n",
      "Epoch 16/100\n",
      "3906/3906 [==============================] - 0s 31us/step - loss: 0.1541 - acc: 0.9357\n",
      "Epoch 17/100\n",
      "3906/3906 [==============================] - 0s 31us/step - loss: 0.1338 - acc: 0.9452\n",
      "Epoch 18/100\n",
      "3906/3906 [==============================] - 0s 31us/step - loss: 0.1256 - acc: 0.9470\n",
      "Epoch 19/100\n",
      "3906/3906 [==============================] - 0s 31us/step - loss: 0.1165 - acc: 0.9524\n",
      "Epoch 20/100\n",
      "3906/3906 [==============================] - 0s 33us/step - loss: 0.1043 - acc: 0.9588\n",
      "Epoch 21/100\n",
      "3906/3906 [==============================] - 0s 31us/step - loss: 0.1092 - acc: 0.9521\n",
      "Epoch 22/100\n",
      "3906/3906 [==============================] - 0s 31us/step - loss: 0.1048 - acc: 0.9590\n",
      "Epoch 23/100\n",
      "3906/3906 [==============================] - 0s 30us/step - loss: 0.0985 - acc: 0.9567\n",
      "Epoch 24/100\n",
      "3906/3906 [==============================] - 0s 32us/step - loss: 0.0931 - acc: 0.9616\n",
      "Epoch 25/100\n",
      "3906/3906 [==============================] - 0s 31us/step - loss: 0.1082 - acc: 0.9537\n",
      "Epoch 26/100\n",
      "3906/3906 [==============================] - 0s 31us/step - loss: 0.0911 - acc: 0.9606\n",
      "Epoch 27/100\n",
      "3906/3906 [==============================] - 0s 31us/step - loss: 0.0883 - acc: 0.9624\n",
      "Epoch 28/100\n",
      "3906/3906 [==============================] - 0s 32us/step - loss: 0.0796 - acc: 0.9685\n",
      "Epoch 29/100\n",
      "3906/3906 [==============================] - 0s 31us/step - loss: 0.0834 - acc: 0.9683\n",
      "Epoch 30/100\n",
      "3906/3906 [==============================] - 0s 32us/step - loss: 0.1010 - acc: 0.9539\n",
      "Epoch 31/100\n",
      "3906/3906 [==============================] - 0s 31us/step - loss: 0.0840 - acc: 0.9626\n",
      "Epoch 32/100\n",
      "3906/3906 [==============================] - 0s 31us/step - loss: 0.1233 - acc: 0.9521\n",
      "Epoch 33/100\n",
      "3906/3906 [==============================] - 0s 35us/step - loss: 0.1065 - acc: 0.9583\n",
      "Epoch 34/100\n",
      "3906/3906 [==============================] - 0s 36us/step - loss: 0.0864 - acc: 0.9657\n",
      "Epoch 35/100\n",
      "3906/3906 [==============================] - 0s 35us/step - loss: 0.0759 - acc: 0.9683\n",
      "Epoch 36/100\n",
      "3906/3906 [==============================] - 0s 34us/step - loss: 0.0695 - acc: 0.9764\n",
      "Epoch 37/100\n",
      "3906/3906 [==============================] - 0s 34us/step - loss: 0.0648 - acc: 0.9759\n",
      "Epoch 38/100\n",
      "3906/3906 [==============================] - 0s 33us/step - loss: 0.0712 - acc: 0.9716\n",
      "Epoch 39/100\n",
      "3906/3906 [==============================] - 0s 32us/step - loss: 0.0705 - acc: 0.9708\n",
      "Epoch 40/100\n",
      "3906/3906 [==============================] - 0s 32us/step - loss: 0.0862 - acc: 0.9659\n",
      "Epoch 41/100\n",
      "3906/3906 [==============================] - 0s 30us/step - loss: 0.0848 - acc: 0.9644\n",
      "Epoch 42/100\n",
      "3906/3906 [==============================] - 0s 30us/step - loss: 0.0778 - acc: 0.9662\n",
      "Epoch 43/100\n",
      "3906/3906 [==============================] - 0s 29us/step - loss: 0.1295 - acc: 0.9503\n",
      "Epoch 44/100\n",
      "3906/3906 [==============================] - 0s 29us/step - loss: 0.0903 - acc: 0.9629\n",
      "Epoch 45/100\n",
      "3906/3906 [==============================] - 0s 28us/step - loss: 0.0897 - acc: 0.9624\n",
      "Epoch 46/100\n",
      "3906/3906 [==============================] - 0s 29us/step - loss: 0.0634 - acc: 0.9762\n",
      "Epoch 47/100\n",
      "3906/3906 [==============================] - 0s 28us/step - loss: 0.0699 - acc: 0.9731\n",
      "Epoch 48/100\n",
      "3906/3906 [==============================] - 0s 29us/step - loss: 0.0756 - acc: 0.9708\n",
      "Epoch 49/100\n",
      "3906/3906 [==============================] - 0s 29us/step - loss: 0.0592 - acc: 0.9788\n",
      "Epoch 50/100\n",
      "3906/3906 [==============================] - 0s 28us/step - loss: 0.0652 - acc: 0.9734\n",
      "Epoch 51/100\n",
      "3906/3906 [==============================] - 0s 30us/step - loss: 0.0626 - acc: 0.9754\n",
      "Epoch 52/100\n",
      "3906/3906 [==============================] - 0s 29us/step - loss: 0.0620 - acc: 0.9757\n",
      "Epoch 53/100\n",
      "3906/3906 [==============================] - 0s 29us/step - loss: 0.0504 - acc: 0.9808\n",
      "Epoch 54/100\n",
      "3906/3906 [==============================] - 0s 29us/step - loss: 0.0452 - acc: 0.9852\n",
      "Epoch 55/100\n",
      "3906/3906 [==============================] - 0s 29us/step - loss: 0.0464 - acc: 0.9816\n",
      "Epoch 56/100\n",
      "3906/3906 [==============================] - 0s 29us/step - loss: 0.0417 - acc: 0.9857\n",
      "Epoch 57/100\n",
      "3906/3906 [==============================] - 0s 31us/step - loss: 0.0451 - acc: 0.9846\n",
      "Epoch 58/100\n",
      "3906/3906 [==============================] - 0s 29us/step - loss: 0.0972 - acc: 0.9693\n",
      "Epoch 59/100\n",
      "3906/3906 [==============================] - 0s 29us/step - loss: 0.0829 - acc: 0.9672\n",
      "Epoch 60/100\n",
      "3906/3906 [==============================] - 0s 30us/step - loss: 0.0605 - acc: 0.9757\n",
      "Epoch 61/100\n",
      "3906/3906 [==============================] - 0s 30us/step - loss: 0.0598 - acc: 0.9785\n",
      "Epoch 62/100\n",
      "3906/3906 [==============================] - 0s 32us/step - loss: 0.0775 - acc: 0.9698\n",
      "Epoch 63/100\n",
      "3906/3906 [==============================] - 0s 30us/step - loss: 0.0549 - acc: 0.9800\n",
      "Epoch 64/100\n",
      "3906/3906 [==============================] - 0s 29us/step - loss: 0.0526 - acc: 0.9788\n",
      "Epoch 65/100\n",
      "3906/3906 [==============================] - 0s 30us/step - loss: 0.0515 - acc: 0.9816\n",
      "Epoch 66/100\n",
      "3906/3906 [==============================] - 0s 31us/step - loss: 0.0543 - acc: 0.9790\n",
      "Epoch 67/100\n",
      "3906/3906 [==============================] - 0s 30us/step - loss: 0.0419 - acc: 0.9852\n",
      "Epoch 68/100\n",
      "3906/3906 [==============================] - 0s 30us/step - loss: 0.0392 - acc: 0.9859\n",
      "Epoch 69/100\n",
      "3906/3906 [==============================] - 0s 30us/step - loss: 0.0396 - acc: 0.9844\n",
      "Epoch 70/100\n",
      "3906/3906 [==============================] - 0s 29us/step - loss: 0.0421 - acc: 0.9808\n",
      "Epoch 71/100\n",
      "3906/3906 [==============================] - 0s 29us/step - loss: 0.0382 - acc: 0.9862\n",
      "Epoch 72/100\n",
      "3906/3906 [==============================] - 0s 28us/step - loss: 0.0345 - acc: 0.9880\n",
      "Epoch 73/100\n",
      "3906/3906 [==============================] - 0s 28us/step - loss: 0.0433 - acc: 0.9836\n",
      "Epoch 74/100\n",
      "3906/3906 [==============================] - 0s 30us/step - loss: 0.0756 - acc: 0.9731\n",
      "Epoch 75/100\n",
      "3906/3906 [==============================] - 0s 29us/step - loss: 0.0639 - acc: 0.9741\n",
      "Epoch 76/100\n",
      "3906/3906 [==============================] - 0s 29us/step - loss: 0.0532 - acc: 0.9793\n",
      "Epoch 77/100\n",
      "3906/3906 [==============================] - 0s 29us/step - loss: 0.0494 - acc: 0.9818\n",
      "Epoch 78/100\n",
      "3906/3906 [==============================] - 0s 29us/step - loss: 0.0706 - acc: 0.9759\n",
      "Epoch 79/100\n",
      "3906/3906 [==============================] - 0s 30us/step - loss: 0.0516 - acc: 0.9808\n",
      "Epoch 80/100\n",
      "3906/3906 [==============================] - 0s 29us/step - loss: 0.0423 - acc: 0.9862\n",
      "Epoch 81/100\n",
      "3906/3906 [==============================] - 0s 31us/step - loss: 0.1486 - acc: 0.9590\n",
      "Epoch 82/100\n",
      "3906/3906 [==============================] - 0s 29us/step - loss: 0.1765 - acc: 0.9511\n",
      "Epoch 83/100\n",
      "3906/3906 [==============================] - 0s 29us/step - loss: 0.1047 - acc: 0.9624\n",
      "Epoch 84/100\n",
      "3906/3906 [==============================] - 0s 30us/step - loss: 0.0729 - acc: 0.9764\n",
      "Epoch 85/100\n",
      "3906/3906 [==============================] - 0s 35us/step - loss: 0.0827 - acc: 0.9729\n",
      "Epoch 86/100\n",
      "3906/3906 [==============================] - 0s 31us/step - loss: 0.0514 - acc: 0.9834\n",
      "Epoch 87/100\n",
      "3906/3906 [==============================] - 0s 32us/step - loss: 0.0421 - acc: 0.9867\n",
      "Epoch 88/100\n",
      "3906/3906 [==============================] - 0s 31us/step - loss: 0.0404 - acc: 0.9880\n",
      "Epoch 89/100\n",
      "3906/3906 [==============================] - 0s 32us/step - loss: 0.0332 - acc: 0.9908\n",
      "Epoch 90/100\n",
      "3906/3906 [==============================] - 0s 32us/step - loss: 0.0320 - acc: 0.9908\n",
      "Epoch 91/100\n",
      "3906/3906 [==============================] - 0s 33us/step - loss: 0.0320 - acc: 0.9936\n",
      "Epoch 92/100\n",
      "3906/3906 [==============================] - 0s 31us/step - loss: 0.0326 - acc: 0.9910\n",
      "Epoch 93/100\n",
      "3906/3906 [==============================] - 0s 33us/step - loss: 0.0355 - acc: 0.9895\n",
      "Epoch 94/100\n",
      "3906/3906 [==============================] - 0s 31us/step - loss: 0.0335 - acc: 0.9913\n",
      "Epoch 95/100\n",
      "3906/3906 [==============================] - 0s 30us/step - loss: 0.0311 - acc: 0.9910\n",
      "Epoch 96/100\n",
      "3906/3906 [==============================] - 0s 29us/step - loss: 0.0455 - acc: 0.9839\n",
      "Epoch 97/100\n",
      "3906/3906 [==============================] - 0s 29us/step - loss: 0.0380 - acc: 0.9864\n",
      "Epoch 98/100\n",
      "3906/3906 [==============================] - 0s 29us/step - loss: 0.0310 - acc: 0.9892\n",
      "Epoch 99/100\n",
      "3906/3906 [==============================] - 0s 29us/step - loss: 0.0306 - acc: 0.9903\n",
      "Epoch 100/100\n",
      "3906/3906 [==============================] - 0s 28us/step - loss: 0.0575 - acc: 0.9816\n",
      "1302/1302 [==============================] - 0s 36us/step\n"
     ]
    }
   ],
   "source": [
    "classifier = Sequential()\n",
    "\n",
    "# Adding the input layer and the first hidden layer\n",
    "layer_info = Dense(activation='relu', input_dim=134, units=65, kernel_initializer='uniform')\n",
    "classifier.add(layer_info)\n",
    "\n",
    "# Adding second hidden layer\n",
    "layer_info = Dense(activation='relu', units=65, kernel_initializer='uniform')\n",
    "classifier.add(layer_info)\n",
    "\n",
    "# Adding output layer\n",
    "layer_info = Dense(activation='sigmoid', units=1, kernel_initializer='uniform')\n",
    "classifier.add(layer_info)\n",
    "\n",
    "# Compiling the ANN\n",
    "classifier.compile(optimizer='adam', loss='binary_crossentropy', metrics=['accuracy'])\n",
    "\n",
    "# Fitting the ANN to the training set\n",
    "with tf.device('/GPU:0'):\n",
    "    classifier.fit(X_train, y_train, batch_size=100, epochs=100)   \n",
    "    \n",
    "# Predicting the Test set results\n",
    "y_pred = classifier.predict(X_test)\n",
    "y_pred = (y_pred > 0.5)\n",
    "\n",
    "score, acc = classifier.evaluate(X_test, y_test,\n",
    "                            batch_size=100)\n",
    "\n",
    "classifiers['ann'] = acc"
   ]
  },
  {
   "cell_type": "code",
   "execution_count": 10,
   "metadata": {},
   "outputs": [
    {
     "name": "stdout",
     "output_type": "stream",
     "text": [
      "{'knn': 0.5591397849462365, 'desicion_tree': 0.934715821812596, 'kernal_svm': 0.620583717357911, 'logistic_regression': 0.6666666666666666, 'random_forest': 0.9116743471582182, 'svm': 0.6490015360983102, 'ann': 0.7419354866177256}\n"
     ]
    }
   ],
   "source": [
    "print(classifiers)"
   ]
  },
  {
   "cell_type": "code",
   "execution_count": 11,
   "metadata": {
    "collapsed": true
   },
   "outputs": [],
   "source": [
    "values = list(classifiers.values())\n",
    "labels = list(classifiers.keys())\n",
    "\n",
    "values =  [round(i * 100, 2) for i in values]\n",
    "# print(values)\n",
    "# print(labels)\n",
    "\n",
    "index = np.arange(len(labels))"
   ]
  },
  {
   "cell_type": "code",
   "execution_count": 12,
   "metadata": {},
   "outputs": [
    {
     "data": {
      "image/png": "[encoded data removed]",
      "text/plain": [
       "<Figure size 1080x720 with 1 Axes>"
      ]
     },
     "metadata": {},
     "output_type": "display_data"
    }
   ],
   "source": [
    "plt.figure(figsize=(15,10))\n",
    "plt.bar(index, values)\n",
    "plt.xlabel('Machine Learning Algorithms', fontsize=20)\n",
    "plt.ylabel('Performance (%)', fontsize=20)\n",
    "plt.xticks(index, labels, rotation=30, fontsize=15)\n",
    "plt.yticks(fontsize=20)\n",
    "plt.title('Applying ML/DL to monitor power consumption of home appliances', fontsize=20)\n",
    "plt.show()"
   ]
  }
 ],
 "metadata": {
  "kernelspec": {
   "display_name": "Python 3",
   "language": "python",
   "name": "python3"
  },
  "language_info": {
   "codemirror_mode": {
    "name": "ipython",
    "version": 3
   },
   "file_extension": ".py",
   "mimetype": "text/x-python",
   "name": "python",
   "nbconvert_exporter": "python",
   "pygments_lexer": "ipython3",
   "version": "3.6.5"
  }
 },
 "nbformat": 4,
 "nbformat_minor": 2
}
